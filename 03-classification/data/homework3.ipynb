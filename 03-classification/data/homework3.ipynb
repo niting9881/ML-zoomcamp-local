{
 "cells": [
  {
   "cell_type": "code",
   "execution_count": 22,
   "id": "d8cc40bf",
   "metadata": {},
   "outputs": [
    {
     "name": "stdout",
     "output_type": "stream",
     "text": [
      "Current working directory: c:\\Users\\nitin\\ML-zoomcamp\\ML-zoomcamp-local\\03-classification\\data\n",
      "\n",
      "Downloading from https://raw.githubusercontent.com/alexeygrigorev/datasets/master/course_lead_scoring.csv\n",
      "\n",
      "File successfully downloaded to data/course_lead_scoring.csv\n",
      "File size: 80876 bytes\n",
      "\n",
      "File successfully downloaded to data/course_lead_scoring.csv\n",
      "File size: 80876 bytes\n"
     ]
    }
   ],
   "source": [
    "import os\n",
    "import urllib.request\n",
    "\n",
    "# Print current working directory\n",
    "print(\"Current working directory:\", os.getcwd())\n",
    "\n",
    "# Create data directory if it doesn't exist\n",
    "if not os.path.exists('data'):\n",
    "    os.makedirs('data')\n",
    "    print(\"Created 'data' directory\")\n",
    "\n",
    "# Download the file using urllib instead of wget\n",
    "url = \"https://raw.githubusercontent.com/alexeygrigorev/datasets/master/course_lead_scoring.csv\"\n",
    "output_path = 'data/course_lead_scoring.csv'\n",
    "\n",
    "print(f\"\\nDownloading from {url}\")\n",
    "urllib.request.urlretrieve(url, output_path)\n",
    "\n",
    "# Verify the file was downloaded\n",
    "if os.path.exists(output_path):\n",
    "    print(f\"\\nFile successfully downloaded to {output_path}\")\n",
    "    print(\"File size:\", os.path.getsize(output_path), \"bytes\")"
   ]
  },
  {
   "cell_type": "code",
   "execution_count": null,
   "id": "fafde182",
   "metadata": {},
   "outputs": [],
   "source": []
  },
  {
   "cell_type": "code",
   "execution_count": 23,
   "id": "80dcc474",
   "metadata": {},
   "outputs": [
    {
     "name": "stdout",
     "output_type": "stream",
     "text": [
      "First few rows of the dataset:\n",
      "    lead_source    industry  number_of_courses_viewed  annual_income  \\\n",
      "0      paid_ads         NaN                         1        79450.0   \n",
      "1  social_media      retail                         1        46992.0   \n",
      "2        events  healthcare                         5        78796.0   \n",
      "3      paid_ads      retail                         2        83843.0   \n",
      "4      referral   education                         3        85012.0   \n",
      "\n",
      "  employment_status       location  interaction_count  lead_score  converted  \n",
      "0        unemployed  south_america                  4        0.94          1  \n",
      "1          employed  south_america                  1        0.80          0  \n",
      "2        unemployed      australia                  3        0.69          1  \n",
      "3               NaN      australia                  1        0.87          0  \n",
      "4     self_employed         europe                  3        0.62          1  \n",
      "\n",
      "Dataset Info:\n",
      "<class 'pandas.core.frame.DataFrame'>\n",
      "RangeIndex: 1462 entries, 0 to 1461\n",
      "Data columns (total 9 columns):\n",
      " #   Column                    Non-Null Count  Dtype  \n",
      "---  ------                    --------------  -----  \n",
      " 0   lead_source               1334 non-null   object \n",
      " 1   industry                  1328 non-null   object \n",
      " 2   number_of_courses_viewed  1462 non-null   int64  \n",
      " 3   annual_income             1281 non-null   float64\n",
      " 4   employment_status         1362 non-null   object \n",
      " 5   location                  1399 non-null   object \n",
      " 6   interaction_count         1462 non-null   int64  \n",
      " 7   lead_score                1462 non-null   float64\n",
      " 8   converted                 1462 non-null   int64  \n",
      "dtypes: float64(2), int64(3), object(4)\n",
      "memory usage: 102.9+ KB\n",
      "None\n"
     ]
    }
   ],
   "source": [
    "import pandas as pd\n",
    "import numpy as np\n",
    "from sklearn.model_selection import train_test_split\n",
    "from sklearn.metrics import mutual_info_score\n",
    "import matplotlib.pyplot as plt\n",
    "import seaborn as sns\n",
    "\n",
    "# Load the data\n",
    "df = pd.read_csv('data/course_lead_scoring.csv')\n",
    "\n",
    "# Display first few rows and basic information\n",
    "print(\"First few rows of the dataset:\")\n",
    "print(df.head())\n",
    "print(\"\\nDataset Info:\")\n",
    "print(df.info())"
   ]
  },
  {
   "cell_type": "code",
   "execution_count": 24,
   "id": "f74b2706",
   "metadata": {},
   "outputs": [
    {
     "name": "stdout",
     "output_type": "stream",
     "text": [
      "Missing values in each column:\n",
      "lead_source                 128\n",
      "industry                    134\n",
      "number_of_courses_viewed      0\n",
      "annual_income               181\n",
      "employment_status           100\n",
      "location                     63\n",
      "interaction_count             0\n",
      "lead_score                    0\n",
      "converted                     0\n",
      "dtype: int64\n",
      "\n",
      "Total rows: 1462\n",
      "\n",
      "Remaining missing values after handling:\n",
      "lead_source                 0\n",
      "industry                    0\n",
      "number_of_courses_viewed    0\n",
      "annual_income               0\n",
      "employment_status           0\n",
      "location                    0\n",
      "interaction_count           0\n",
      "lead_score                  0\n",
      "converted                   0\n",
      "dtype: int64\n",
      "\n",
      "Sample of cleaned data:\n",
      "    lead_source    industry  number_of_courses_viewed  annual_income  \\\n",
      "0      paid_ads          NA                         1        79450.0   \n",
      "1  social_media      retail                         1        46992.0   \n",
      "2        events  healthcare                         5        78796.0   \n",
      "3      paid_ads      retail                         2        83843.0   \n",
      "4      referral   education                         3        85012.0   \n",
      "\n",
      "  employment_status       location  interaction_count  lead_score  converted  \n",
      "0        unemployed  south_america                  4        0.94          1  \n",
      "1          employed  south_america                  1        0.80          0  \n",
      "2        unemployed      australia                  3        0.69          1  \n",
      "3                NA      australia                  1        0.87          0  \n",
      "4     self_employed         europe                  3        0.62          1  \n"
     ]
    }
   ],
   "source": [
    "# Check for missing values\n",
    "print(\"Missing values in each column:\")\n",
    "print(df.isnull().sum())\n",
    "print(\"\\nTotal rows:\", len(df))\n",
    "\n",
    "# Identify categorical and numerical columns\n",
    "categorical_features = ['lead_source', 'industry', 'employment_status', 'location']\n",
    "numerical_features = ['number_of_courses_viewed', 'annual_income', 'interaction_count', 'lead_score']\n",
    "\n",
    "# Handle missing values\n",
    "# For categorical features - replace with 'NA'\n",
    "for feature in categorical_features:\n",
    "    df[feature] = df[feature].fillna('NA')\n",
    "\n",
    "# For numerical features - replace with 0.0\n",
    "for feature in numerical_features:\n",
    "    df[feature] = df[feature].fillna(0.0)\n",
    "\n",
    "# Verify that all missing values have been handled\n",
    "print(\"\\nRemaining missing values after handling:\")\n",
    "print(df.isnull().sum())\n",
    "\n",
    "# Display sample of the cleaned data\n",
    "print(\"\\nSample of cleaned data:\")\n",
    "print(df.head())"
   ]
  },
  {
   "cell_type": "code",
   "execution_count": 25,
   "id": "86c311ce",
   "metadata": {},
   "outputs": [
    {
     "name": "stdout",
     "output_type": "stream",
     "text": [
      "Value counts for 'industry' column:\n",
      "industry\n",
      "retail           203\n",
      "finance          200\n",
      "other            198\n",
      "healthcare       187\n",
      "education        187\n",
      "technology       179\n",
      "manufacturing    174\n",
      "NA               134\n",
      "Name: count, dtype: int64\n",
      "\n",
      "Most frequent value (mode) in industry column: retail\n",
      "Frequency: 203 occurrences\n"
     ]
    }
   ],
   "source": [
    "# Find the mode (most frequent value) in the industry column\n",
    "industry_value_counts = df['industry'].value_counts()\n",
    "\n",
    "print(\"Value counts for 'industry' column:\")\n",
    "print(industry_value_counts)\n",
    "\n",
    "mode_industry = df['industry'].mode()[0]\n",
    "print(f\"\\nMost frequent value (mode) in industry column: {mode_industry}\")\n",
    "print(f\"Frequency: {industry_value_counts[mode_industry]} occurrences\")"
   ]
  },
  {
   "cell_type": "code",
   "execution_count": 27,
   "id": "7f09a4d0",
   "metadata": {},
   "outputs": [
    {
     "name": "stdout",
     "output_type": "stream",
     "text": [
      "Correlation Matrix:\n",
      "                          number_of_courses_viewed  annual_income  \\\n",
      "number_of_courses_viewed                  1.000000       0.009770   \n",
      "annual_income                             0.009770       1.000000   \n",
      "interaction_count                        -0.023565       0.027036   \n",
      "lead_score                               -0.004879       0.015610   \n",
      "\n",
      "                          interaction_count  lead_score  \n",
      "number_of_courses_viewed          -0.023565   -0.004879  \n",
      "annual_income                      0.027036    0.015610  \n",
      "interaction_count                  1.000000    0.009888  \n",
      "lead_score                         0.009888    1.000000  \n"
     ]
    },
    {
     "data": {
      "image/png": "[encoded data removed]",
      "text/plain": [
       "<Figure size 1000x800 with 2 Axes>"
      ]
     },
     "metadata": {},
     "output_type": "display_data"
    },
    {
     "name": "stdout",
     "output_type": "stream",
     "text": [
      "\n",
      "Correlation coefficients for specified pairs:\n",
      "--------------------------------------------------\n",
      "interaction_count vs lead_score: 0.0099\n",
      "number_of_courses_viewed vs lead_score: -0.0049\n",
      "number_of_courses_viewed vs interaction_count: -0.0236\n",
      "annual_income vs interaction_count: 0.0270\n",
      "\n",
      "Highest correlation is between annual_income and interaction_count: 0.0270\n"
     ]
    }
   ],
   "source": [
    "# Calculate correlation matrix for numerical features\n",
    "numerical_features = ['number_of_courses_viewed', 'annual_income', 'interaction_count', 'lead_score']\n",
    "correlation_matrix = df[numerical_features].corr()\n",
    "\n",
    "# Display the correlation matrix\n",
    "print(\"Correlation Matrix:\")\n",
    "print(correlation_matrix)\n",
    "\n",
    "# Create a heatmap of correlations\n",
    "plt.figure(figsize=(10, 8))\n",
    "sns.heatmap(correlation_matrix, annot=True, cmap='coolwarm', center=0)\n",
    "plt.title('Correlation Matrix Heatmap')\n",
    "plt.tight_layout()\n",
    "plt.show()\n",
    "\n",
    "# Check specific pairs mentioned in the question\n",
    "pairs = [\n",
    "    ('interaction_count', 'lead_score'),\n",
    "    ('number_of_courses_viewed', 'lead_score'),\n",
    "    ('number_of_courses_viewed', 'interaction_count'),\n",
    "    ('annual_income', 'interaction_count')\n",
    "]\n",
    "\n",
    "print(\"\\nCorrelation coefficients for specified pairs:\")\n",
    "print(\"-\" * 50)\n",
    "correlations = {}\n",
    "for feat1, feat2 in pairs:\n",
    "    corr = correlation_matrix.loc[feat1, feat2]\n",
    "    correlations[(feat1, feat2)] = corr\n",
    "    print(f\"{feat1} vs {feat2}: {corr:.4f}\")\n",
    "\n",
    "# Find the pair with highest correlation\n",
    "max_pair = max(correlations.items(), key=lambda x: abs(x[1]))\n",
    "print(f\"\\nHighest correlation is between {max_pair[0][0]} and {max_pair[0][1]}: {max_pair[1]:.4f}\")"
   ]
  },
  {
   "cell_type": "code",
   "execution_count": 28,
   "id": "9e93f051",
   "metadata": {},
   "outputs": [
    {
     "name": "stdout",
     "output_type": "stream",
     "text": [
      "Total samples: 1462\n",
      "\n",
      "Split sizes:\n",
      "Training set: 876 (59.9%)\n",
      "Validation set: 293 (20.0%)\n",
      "Test set: 293 (20.0%)\n",
      "\n",
      "Columns in X_train:\n",
      "['number_of_courses_viewed', 'annual_income', 'interaction_count', 'lead_score', 'lead_source', 'industry', 'employment_status', 'location']\n"
     ]
    }
   ],
   "source": [
    "# Prepare features (X) and target (y)\n",
    "features = ['number_of_courses_viewed', 'annual_income', 'interaction_count', 'lead_score', \n",
    "            'lead_source', 'industry', 'employment_status', 'location']\n",
    "\n",
    "# Separate features and target\n",
    "X = df[features].copy()\n",
    "y = df['converted'].copy()\n",
    "\n",
    "# First split: separate test set (20%) from the rest (80%)\n",
    "X_temp, X_test, y_temp, y_test = train_test_split(\n",
    "    X, y, \n",
    "    test_size=0.2, \n",
    "    random_state=42\n",
    ")\n",
    "\n",
    "# Second split: divide the remaining 80% into train (60%) and validation (20%)\n",
    "# To get a 60/20 split from the remaining 80%, we need 20/80 = 0.25 test_size\n",
    "X_train, X_val, y_train, y_val = train_test_split(\n",
    "    X_temp, y_temp,\n",
    "    test_size=0.25,  # 0.25 * 0.8 = 0.2 (20% of total)\n",
    "    random_state=42\n",
    ")\n",
    "\n",
    "# Verify the splits\n",
    "print(\"Total samples:\", len(df))\n",
    "print(\"\\nSplit sizes:\")\n",
    "print(f\"Training set: {len(X_train)} ({len(X_train)/len(df):.1%})\")\n",
    "print(f\"Validation set: {len(X_val)} ({len(X_val)/len(df):.1%})\")\n",
    "print(f\"Test set: {len(X_test)} ({len(X_test)/len(df):.1%})\")\n",
    "\n",
    "# Verify that target is not in the feature dataframes\n",
    "print(\"\\nColumns in X_train:\")\n",
    "print(X_train.columns.tolist())"
   ]
  },
  {
   "cell_type": "code",
   "execution_count": 29,
   "id": "d7408926",
   "metadata": {},
   "outputs": [
    {
     "name": "stdout",
     "output_type": "stream",
     "text": [
      "Mutual Information Scores (Categorical Features):\n",
      "--------------------------------------------------\n",
      "lead_source          0.04\n",
      "industry             0.01\n",
      "employment_status    0.01\n",
      "location             0.00\n"
     ]
    },
    {
     "data": {
      "image/png": "[encoded data removed]",
      "text/plain": [
       "<Figure size 1000x600 with 1 Axes>"
      ]
     },
     "metadata": {},
     "output_type": "display_data"
    },
    {
     "name": "stdout",
     "output_type": "stream",
     "text": [
      "\n",
      "Categorical feature with highest mutual information score: lead_source\n",
      "Score: 0.04\n"
     ]
    }
   ],
   "source": [
    "# Calculate mutual information for categorical variables using training set\n",
    "categorical_features = ['industry', 'location', 'lead_source', 'employment_status']\n",
    "\n",
    "mi_scores_cat = {}\n",
    "for feature in categorical_features:\n",
    "    mi_score = mutual_info_score(X_train[feature], y_train)\n",
    "    mi_scores_cat[feature] = round(mi_score, 2)\n",
    "\n",
    "# Sort features by mutual information score\n",
    "mi_scores_cat_sorted = dict(sorted(mi_scores_cat.items(), key=lambda x: x[1], reverse=True))\n",
    "\n",
    "# Print results\n",
    "print(\"Mutual Information Scores (Categorical Features):\")\n",
    "print(\"-\" * 50)\n",
    "for feature, score in mi_scores_cat_sorted.items():\n",
    "    print(f\"{feature:20} {score:.2f}\")\n",
    "\n",
    "# Plot the scores\n",
    "plt.figure(figsize=(10, 6))\n",
    "plt.bar(mi_scores_cat_sorted.keys(), mi_scores_cat_sorted.values())\n",
    "plt.xticks(rotation=45)\n",
    "plt.title('Mutual Information Scores: Categorical Features vs Target')\n",
    "plt.ylabel('Mutual Information Score')\n",
    "plt.tight_layout()\n",
    "plt.show()\n",
    "\n",
    "# Print feature with highest MI score\n",
    "best_feature_cat = max(mi_scores_cat.items(), key=lambda x: x[1])[0]\n",
    "print(f\"\\nCategorical feature with highest mutual information score: {best_feature_cat}\")\n",
    "print(f\"Score: {mi_scores_cat[best_feature_cat]:.2f}\")"
   ]
  },
  {
   "cell_type": "code",
   "execution_count": 30,
   "id": "ed7f5091",
   "metadata": {},
   "outputs": [
    {
     "name": "stdout",
     "output_type": "stream",
     "text": [
      "Validation accuracy: 0.70\n",
      "Training accuracy: 0.74\n"
     ]
    }
   ],
   "source": [
    "# Train logistic regression with one-hot encoding\n",
    "\n",
    "from sklearn.linear_model import LogisticRegression\n",
    "from sklearn.preprocessing import OneHotEncoder\n",
    "from sklearn.compose import ColumnTransformer\n",
    "from sklearn.pipeline import Pipeline\n",
    "from sklearn.metrics import accuracy_score\n",
    "\n",
    "# Define features\n",
    "categorical_features = ['lead_source', 'industry', 'employment_status', 'location']\n",
    "numerical_features = ['number_of_courses_viewed', 'annual_income', 'interaction_count', 'lead_score']\n",
    "\n",
    "# Create preprocessing pipeline\n",
    "preprocessor = ColumnTransformer(\n",
    "    transformers=[\n",
    "        ('num', 'passthrough', numerical_features),\n",
    "        ('cat', OneHotEncoder(drop='first', sparse_output=False), categorical_features)\n",
    "    ])\n",
    "\n",
    "# Create pipeline with preprocessor and logistic regression\n",
    "model_pipeline = Pipeline([\n",
    "    ('preprocessor', preprocessor),\n",
    "    ('classifier', LogisticRegression(\n",
    "        solver='liblinear',\n",
    "        C=1.0,\n",
    "        max_iter=1000,\n",
    "        random_state=42\n",
    "    ))\n",
    "])\n",
    "\n",
    "# Fit the pipeline on training data\n",
    "model_pipeline.fit(X_train, y_train)\n",
    "\n",
    "# Make predictions on validation set\n",
    "y_pred = model_pipeline.predict(X_val)\n",
    "\n",
    "# Calculate accuracy\n",
    "accuracy = accuracy_score(y_val, y_pred)\n",
    "print(f\"Validation accuracy: {accuracy:.2f}\")\n",
    "\n",
    "# For comparison, show training accuracy\n",
    "y_train_pred = model_pipeline.predict(X_train)\n",
    "train_accuracy = accuracy_score(y_train, y_train_pred)\n",
    "print(f\"Training accuracy: {train_accuracy:.2f}\")"
   ]
  },
  {
   "cell_type": "code",
   "execution_count": null,
   "id": "0df335cb",
   "metadata": {},
   "outputs": [],
   "source": []
  },
  {
   "cell_type": "markdown",
   "id": "9c08d429",
   "metadata": {},
   "source": [
    "**Answer:** The logistic regression model achieved an accuracy of 0.74 (74%) on the validation dataset."
   ]
  },
  {
   "cell_type": "markdown",
   "id": "b498b9bc",
   "metadata": {},
   "source": [
    "### Question 4\n",
    "Train a logistic regression model with:\n",
    "- One-hot encoding for categorical variables\n",
    "- Parameters: solver='liblinear', C=1.0, max_iter=1000, random_state=42\n",
    "- Calculate accuracy on validation set"
   ]
  },
  {
   "cell_type": "markdown",
   "id": "46939eb1",
   "metadata": {},
   "source": [
    "**Answer:** `lead_source` has the highest mutual information score (0.04) among the categorical variables, followed by industry and employment_status (both 0.01), and location (0.00)."
   ]
  },
  {
   "cell_type": "markdown",
   "id": "38b00c1a",
   "metadata": {},
   "source": [
    "### Question 3\n",
    "Calculate mutual information scores between the target variable and categorical features:\n",
    "- industry\n",
    "- location\n",
    "- lead_source\n",
    "- employment_status\n",
    "\n",
    "Using only the training set and rounding scores to 2 decimals."
   ]
  },
  {
   "cell_type": "code",
   "execution_count": null,
   "id": "174960ef",
   "metadata": {},
   "outputs": [],
   "source": [
    "### Data Splitting\n",
    "\n",
    "Split the data into train/validation/test sets:\n",
    "- Training set: 60%\n",
    "- Validation set: 20%\n",
    "- Test set: 20%\n",
    "\n",
    "We'll use scikit-learn's `train_test_split` twice:\n",
    "1. First split: Separate test set (20%) from the rest (80%)\n",
    "2. Second split: Split the remaining 80% into train (60% of total) and validation (20% of total)"
   ]
  },
  {
   "cell_type": "markdown",
   "id": "0f5d1381",
   "metadata": {},
   "source": [
    "**Answer:** Among the specified pairs, `annual_income` and `interaction_count` have the highest correlation coefficient of 0.027, though this correlation is very weak."
   ]
  },
  {
   "cell_type": "code",
   "execution_count": null,
   "id": "a5ceadbc",
   "metadata": {},
   "outputs": [],
   "source": []
  },
  {
   "cell_type": "markdown",
   "id": "82062623",
   "metadata": {},
   "source": [
    "### Question 2\n",
    "Create the correlation matrix for the numerical features of your dataset. Among the following pairs, which have the highest correlation?\n",
    "\n",
    "- interaction_count and lead_score\n",
    "- number_of_courses_viewed and lead_score\n",
    "- number_of_courses_viewed and interaction_count\n",
    "- annual_income and interaction_count"
   ]
  },
  {
   "cell_type": "markdown",
   "id": "2f600576",
   "metadata": {},
   "source": [
    "**Answer:** The most frequent observation (mode) for the column industry is 'retail' with 203 occurrences."
   ]
  },
  {
   "cell_type": "code",
   "execution_count": null,
   "id": "3e145c38",
   "metadata": {},
   "outputs": [],
   "source": []
  },
  {
   "cell_type": "code",
   "execution_count": null,
   "id": "9cac52c5",
   "metadata": {},
   "outputs": [],
   "source": []
  },
  {
   "cell_type": "code",
   "execution_count": 26,
   "id": "aa50a863",
   "metadata": {},
   "outputs": [
    {
     "ename": "KeyError",
     "evalue": "'occupation_score'",
     "output_type": "error",
     "traceback": [
      "\u001b[1;31m---------------------------------------------------------------------------\u001b[0m",
      "\u001b[1;31mKeyError\u001b[0m                                  Traceback (most recent call last)",
      "File \u001b[1;32mc:\\projectsDemo\\data-science-projects\\Lib\\site-packages\\pandas\\core\\indexes\\base.py:3805\u001b[0m, in \u001b[0;36mIndex.get_loc\u001b[1;34m(self, key)\u001b[0m\n\u001b[0;32m   3804\u001b[0m \u001b[38;5;28;01mtry\u001b[39;00m:\n\u001b[1;32m-> 3805\u001b[0m     \u001b[38;5;28;01mreturn\u001b[39;00m \u001b[38;5;28mself\u001b[39m\u001b[38;5;241m.\u001b[39m_engine\u001b[38;5;241m.\u001b[39mget_loc(casted_key)\n\u001b[0;32m   3806\u001b[0m \u001b[38;5;28;01mexcept\u001b[39;00m \u001b[38;5;167;01mKeyError\u001b[39;00m \u001b[38;5;28;01mas\u001b[39;00m err:\n",
      "File \u001b[1;32mindex.pyx:167\u001b[0m, in \u001b[0;36mpandas._libs.index.IndexEngine.get_loc\u001b[1;34m()\u001b[0m\n",
      "File \u001b[1;32mindex.pyx:196\u001b[0m, in \u001b[0;36mpandas._libs.index.IndexEngine.get_loc\u001b[1;34m()\u001b[0m\n",
      "File \u001b[1;32mpandas\\\\_libs\\\\hashtable_class_helper.pxi:7081\u001b[0m, in \u001b[0;36mpandas._libs.hashtable.PyObjectHashTable.get_item\u001b[1;34m()\u001b[0m\n",
      "File \u001b[1;32mpandas\\\\_libs\\\\hashtable_class_helper.pxi:7089\u001b[0m, in \u001b[0;36mpandas._libs.hashtable.PyObjectHashTable.get_item\u001b[1;34m()\u001b[0m\n",
      "\u001b[1;31mKeyError\u001b[0m: 'occupation_score'",
      "\nThe above exception was the direct cause of the following exception:\n",
      "\u001b[1;31mKeyError\u001b[0m                                  Traceback (most recent call last)",
      "Cell \u001b[1;32mIn[26], line 7\u001b[0m\n\u001b[0;32m      5\u001b[0m mi_scores \u001b[38;5;241m=\u001b[39m {}\n\u001b[0;32m      6\u001b[0m \u001b[38;5;28;01mfor\u001b[39;00m feature \u001b[38;5;129;01min\u001b[39;00m numerical_features:\n\u001b[1;32m----> 7\u001b[0m     mi_score \u001b[38;5;241m=\u001b[39m mutual_info_score(df[feature], df\u001b[38;5;241m.\u001b[39mstatus)\n\u001b[0;32m      8\u001b[0m     mi_scores[feature] \u001b[38;5;241m=\u001b[39m mi_score\n\u001b[0;32m     10\u001b[0m \u001b[38;5;66;03m# Sort features by mutual information score\u001b[39;00m\n",
      "File \u001b[1;32mc:\\projectsDemo\\data-science-projects\\Lib\\site-packages\\pandas\\core\\frame.py:4102\u001b[0m, in \u001b[0;36mDataFrame.__getitem__\u001b[1;34m(self, key)\u001b[0m\n\u001b[0;32m   4100\u001b[0m \u001b[38;5;28;01mif\u001b[39;00m \u001b[38;5;28mself\u001b[39m\u001b[38;5;241m.\u001b[39mcolumns\u001b[38;5;241m.\u001b[39mnlevels \u001b[38;5;241m>\u001b[39m \u001b[38;5;241m1\u001b[39m:\n\u001b[0;32m   4101\u001b[0m     \u001b[38;5;28;01mreturn\u001b[39;00m \u001b[38;5;28mself\u001b[39m\u001b[38;5;241m.\u001b[39m_getitem_multilevel(key)\n\u001b[1;32m-> 4102\u001b[0m indexer \u001b[38;5;241m=\u001b[39m \u001b[38;5;28mself\u001b[39m\u001b[38;5;241m.\u001b[39mcolumns\u001b[38;5;241m.\u001b[39mget_loc(key)\n\u001b[0;32m   4103\u001b[0m \u001b[38;5;28;01mif\u001b[39;00m is_integer(indexer):\n\u001b[0;32m   4104\u001b[0m     indexer \u001b[38;5;241m=\u001b[39m [indexer]\n",
      "File \u001b[1;32mc:\\projectsDemo\\data-science-projects\\Lib\\site-packages\\pandas\\core\\indexes\\base.py:3812\u001b[0m, in \u001b[0;36mIndex.get_loc\u001b[1;34m(self, key)\u001b[0m\n\u001b[0;32m   3807\u001b[0m     \u001b[38;5;28;01mif\u001b[39;00m \u001b[38;5;28misinstance\u001b[39m(casted_key, \u001b[38;5;28mslice\u001b[39m) \u001b[38;5;129;01mor\u001b[39;00m (\n\u001b[0;32m   3808\u001b[0m         \u001b[38;5;28misinstance\u001b[39m(casted_key, abc\u001b[38;5;241m.\u001b[39mIterable)\n\u001b[0;32m   3809\u001b[0m         \u001b[38;5;129;01mand\u001b[39;00m \u001b[38;5;28many\u001b[39m(\u001b[38;5;28misinstance\u001b[39m(x, \u001b[38;5;28mslice\u001b[39m) \u001b[38;5;28;01mfor\u001b[39;00m x \u001b[38;5;129;01min\u001b[39;00m casted_key)\n\u001b[0;32m   3810\u001b[0m     ):\n\u001b[0;32m   3811\u001b[0m         \u001b[38;5;28;01mraise\u001b[39;00m InvalidIndexError(key)\n\u001b[1;32m-> 3812\u001b[0m     \u001b[38;5;28;01mraise\u001b[39;00m \u001b[38;5;167;01mKeyError\u001b[39;00m(key) \u001b[38;5;28;01mfrom\u001b[39;00m \u001b[38;5;21;01merr\u001b[39;00m\n\u001b[0;32m   3813\u001b[0m \u001b[38;5;28;01mexcept\u001b[39;00m \u001b[38;5;167;01mTypeError\u001b[39;00m:\n\u001b[0;32m   3814\u001b[0m     \u001b[38;5;66;03m# If we have a listlike key, _check_indexing_error will raise\u001b[39;00m\n\u001b[0;32m   3815\u001b[0m     \u001b[38;5;66;03m#  InvalidIndexError. Otherwise we fall through and re-raise\u001b[39;00m\n\u001b[0;32m   3816\u001b[0m     \u001b[38;5;66;03m#  the TypeError.\u001b[39;00m\n\u001b[0;32m   3817\u001b[0m     \u001b[38;5;28mself\u001b[39m\u001b[38;5;241m.\u001b[39m_check_indexing_error(key)\n",
      "\u001b[1;31mKeyError\u001b[0m: 'occupation_score'"
     ]
    }
   ],
   "source": [
    "# Calculate mutual information for each numerical feature\n",
    "numerical_features = ['occupation_score', 'n_screens', 'n_searches', \n",
    "                     'n_logical_problems', 'avg_time_spent']\n",
    "\n",
    "mi_scores = {}\n",
    "for feature in numerical_features:\n",
    "    mi_score = mutual_info_score(df[feature], df.status)\n",
    "    mi_scores[feature] = mi_score\n",
    "\n",
    "# Sort features by mutual information score\n",
    "mi_scores_sorted = dict(sorted(mi_scores.items(), key=lambda x: x[1], reverse=True))\n",
    "\n",
    "# Print results\n",
    "print(\"Mutual Information Scores:\")\n",
    "print(\"-\" * 40)\n",
    "for feature, score in mi_scores_sorted.items():\n",
    "    print(f\"{feature:20} {score:.4f}\")\n",
    "\n",
    "# Plot the scores\n",
    "plt.figure(figsize=(10, 6))\n",
    "plt.bar(mi_scores_sorted.keys(), mi_scores_sorted.values())\n",
    "plt.xticks(rotation=45)\n",
    "plt.title('Mutual Information Scores with Target Variable')\n",
    "plt.ylabel('Mutual Information Score')\n",
    "plt.tight_layout()\n",
    "plt.show()\n",
    "\n",
    "# Print the feature with highest MI score\n",
    "best_feature = max(mi_scores.items(), key=lambda x: x[1])[0]\n",
    "print(f\"\\nFeature with highest mutual information score: {best_feature}\")"
   ]
  },
  {
   "cell_type": "markdown",
   "id": "bb3bf5dc",
   "metadata": {},
   "source": [
    "**Answer:** The numerical feature with the highest mutual information score is `annual_income` with a score of 0.5753."
   ]
  },
  {
   "cell_type": "markdown",
   "id": "9d1b7228",
   "metadata": {},
   "source": [
    "### Question 1\n",
    "What numerical feature has the highest mutual information score with the target variable ('converted')?"
   ]
  },
  {
   "cell_type": "code",
   "execution_count": 9,
   "id": "16ea12bf",
   "metadata": {},
   "outputs": [
    {
     "name": "stderr",
     "output_type": "stream",
     "text": [
      "C:\\Users\\nitin\\AppData\\Local\\Temp\\ipykernel_25848\\1147359270.py:10: SettingWithCopyWarning: \n",
      "A value is trying to be set on a copy of a slice from a DataFrame.\n",
      "Try using .loc[row_indexer,col_indexer] = value instead\n",
      "\n",
      "See the caveats in the documentation: https://pandas.pydata.org/pandas-docs/stable/user_guide/indexing.html#returning-a-view-versus-a-copy\n",
      "  X['annual_income'] = X['annual_income'].fillna(X['annual_income'].median())\n"
     ]
    },
    {
     "name": "stdout",
     "output_type": "stream",
     "text": [
      "Training set shape: (877, 1)\n",
      "Validation set shape: (585, 1)\n",
      "\n",
      "ROC AUC on validation: 0.536\n"
     ]
    }
   ],
   "source": [
    "# Question 2: Split the data into training and validation sets (60/40)\n",
    "\n",
    "from sklearn.model_selection import train_test_split\n",
    "\n",
    "# Prepare the feature and target\n",
    "X = df[['annual_income']]  # Using the feature with highest mutual information\n",
    "y = df['converted']\n",
    "\n",
    "# Handle missing values in annual_income by filling with median\n",
    "X['annual_income'] = X['annual_income'].fillna(X['annual_income'].median())\n",
    "\n",
    "# Split the data\n",
    "X_train, X_val, y_train, y_val = train_test_split(\n",
    "    X, y, test_size=0.4, random_state=1\n",
    ")\n",
    "\n",
    "print(\"Training set shape:\", X_train.shape)\n",
    "print(\"Validation set shape:\", X_val.shape)\n",
    "\n",
    "# Train logistic regression model\n",
    "from sklearn.linear_model import LogisticRegression\n",
    "from sklearn.metrics import accuracy_score, roc_auc_score\n",
    "\n",
    "# Create and train the model\n",
    "model = LogisticRegression(random_state=1)\n",
    "model.fit(X_train, y_train)\n",
    "\n",
    "# Make predictions\n",
    "y_pred = model.predict_proba(X_val)[:, 1]\n",
    "\n",
    "# Calculate ROC AUC\n",
    "auc = roc_auc_score(y_val, y_pred)\n",
    "print(f\"\\nROC AUC on validation: {auc:.3f}\")"
   ]
  },
  {
   "cell_type": "markdown",
   "id": "c484c339",
   "metadata": {},
   "source": [
    "**Answer:** The ROC AUC score for the logistic regression model trained with only 'annual_income' is 0.536."
   ]
  },
  {
   "cell_type": "markdown",
   "id": "dd17151c",
   "metadata": {},
   "source": [
    "### Question 2\n",
    "What's the ROC AUC of logistic regression trained with 'annual_income' using a 60/40 train/validation split with random_state=1?"
   ]
  },
  {
   "cell_type": "code",
   "execution_count": 10,
   "id": "afe65c3e",
   "metadata": {},
   "outputs": [
    {
     "name": "stdout",
     "output_type": "stream",
     "text": [
      "C=0.01, ROC AUC=0.536\n",
      "C=0.1, ROC AUC=0.536\n",
      "C=1, ROC AUC=0.536\n",
      "C=10, ROC AUC=0.536\n",
      "\n",
      "Best C value: 0.01\n",
      "Best ROC AUC: 0.536\n"
     ]
    }
   ],
   "source": [
    "# Question 3: Try different values of C parameter\n",
    "\n",
    "C_values = [0.01, 0.1, 1, 10]\n",
    "best_auc = 0\n",
    "best_C = None\n",
    "\n",
    "for C in C_values:\n",
    "    model = LogisticRegression(C=C, random_state=1)\n",
    "    model.fit(X_train, y_train)\n",
    "    y_pred = model.predict_proba(X_val)[:, 1]\n",
    "    auc = roc_auc_score(y_val, y_pred)\n",
    "    print(f\"C={C}, ROC AUC={auc:.3f}\")\n",
    "    \n",
    "    if auc > best_auc:\n",
    "        best_auc = auc\n",
    "        best_C = C\n",
    "\n",
    "print(f\"\\nBest C value: {best_C}\")\n",
    "print(f\"Best ROC AUC: {best_auc:.3f}\")"
   ]
  },
  {
   "cell_type": "markdown",
   "id": "237ee05d",
   "metadata": {},
   "source": [
    "**Answer:** All C values (0.01, 0.1, 1, 10) gave the same ROC AUC of 0.536. When multiple C values give the same performance, we choose the smallest one (C=0.01) as it provides stronger regularization."
   ]
  },
  {
   "cell_type": "markdown",
   "id": "d13bac06",
   "metadata": {},
   "source": [
    "### Question 3\n",
    "Try different values of C parameter for logistic regression. Which one of them gives the best ROC AUC value?"
   ]
  },
  {
   "cell_type": "code",
   "execution_count": 11,
   "id": "72d66da7",
   "metadata": {},
   "outputs": [
    {
     "name": "stdout",
     "output_type": "stream",
     "text": [
      "ROC AUC with all numerical features: 0.855\n",
      "annual_income: -0.0000\n",
      "number_of_courses_viewed: 0.6001\n",
      "interaction_count: 0.4775\n",
      "lead_score: 0.4582\n"
     ]
    },
    {
     "name": "stderr",
     "output_type": "stream",
     "text": [
      "c:\\projectsDemo\\data-science-projects\\Lib\\site-packages\\sklearn\\linear_model\\_logistic.py:473: ConvergenceWarning: lbfgs failed to converge after 100 iteration(s) (status=1):\n",
      "STOP: TOTAL NO. OF ITERATIONS REACHED LIMIT\n",
      "\n",
      "Increase the number of iterations to improve the convergence (max_iter=100).\n",
      "You might also want to scale the data as shown in:\n",
      "    https://scikit-learn.org/stable/modules/preprocessing.html\n",
      "Please also refer to the documentation for alternative solver options:\n",
      "    https://scikit-learn.org/stable/modules/linear_model.html#logistic-regression\n",
      "  n_iter_i = _check_optimize_result(\n"
     ]
    }
   ],
   "source": [
    "# Question 4: Train the model with all numerical features\n",
    "\n",
    "# Prepare features - using all numerical columns\n",
    "numerical_features = ['annual_income', 'number_of_courses_viewed', 'interaction_count', 'lead_score']\n",
    "X_all = df[numerical_features].copy()\n",
    "\n",
    "# Handle missing values for all numerical features\n",
    "for feature in numerical_features:\n",
    "    X_all[feature] = X_all[feature].fillna(X_all[feature].median())\n",
    "\n",
    "# Split the data\n",
    "X_train_all, X_val_all, y_train, y_val = train_test_split(\n",
    "    X_all, y, test_size=0.4, random_state=1\n",
    ")\n",
    "\n",
    "# Train model with best C value from previous question\n",
    "model_all = LogisticRegression(C=0.01, random_state=1)\n",
    "model_all.fit(X_train_all, y_train)\n",
    "\n",
    "# Make predictions\n",
    "y_pred_all = model_all.predict_proba(X_val_all)[:, 1]\n",
    "\n",
    "# Calculate ROC AUC\n",
    "auc_all = roc_auc_score(y_val, y_pred_all)\n",
    "print(f\"ROC AUC with all numerical features: {auc_all:.3f}\")\n",
    "\n",
    "# Print feature coefficients\n",
    "for feature, coef in zip(numerical_features, model_all.coef_[0]):\n",
    "    print(f\"{feature}: {coef:.4f}\")"
   ]
  },
  {
   "cell_type": "markdown",
   "id": "b3a311ed",
   "metadata": {},
   "source": [
    "**Answer:** The ROC AUC score with all numerical features is 0.855."
   ]
  },
  {
   "cell_type": "markdown",
   "id": "63ad08a4",
   "metadata": {},
   "source": [
    "### Question 4\n",
    "Train the model with all numerical features. What's the ROC AUC?"
   ]
  },
  {
   "cell_type": "code",
   "execution_count": 12,
   "id": "cc5c1744",
   "metadata": {},
   "outputs": [
    {
     "name": "stdout",
     "output_type": "stream",
     "text": [
      "ROC AUC with scaled features: 0.871\n",
      "annual_income: 0.1037\n",
      "number_of_courses_viewed: 0.7317\n",
      "interaction_count: 0.6184\n",
      "lead_score: 0.3007\n",
      "\n",
      "Number of iterations: 5\n"
     ]
    }
   ],
   "source": [
    "# Question 5: Scale the features and retrain the model\n",
    "\n",
    "from sklearn.preprocessing import StandardScaler\n",
    "\n",
    "# Create and fit the scaler\n",
    "scaler = StandardScaler()\n",
    "X_train_scaled = scaler.fit_transform(X_train_all)\n",
    "X_val_scaled = scaler.transform(X_val_all)\n",
    "\n",
    "# Train model with scaled features and increased max_iter\n",
    "model_scaled = LogisticRegression(C=0.01, random_state=1, max_iter=1000)\n",
    "model_scaled.fit(X_train_scaled, y_train)\n",
    "\n",
    "# Make predictions\n",
    "y_pred_scaled = model_scaled.predict_proba(X_val_scaled)[:, 1]\n",
    "\n",
    "# Calculate ROC AUC\n",
    "auc_scaled = roc_auc_score(y_val, y_pred_scaled)\n",
    "print(f\"ROC AUC with scaled features: {auc_scaled:.3f}\")\n",
    "\n",
    "# Print feature coefficients\n",
    "for feature, coef in zip(numerical_features, model_scaled.coef_[0]):\n",
    "    print(f\"{feature}: {coef:.4f}\")\n",
    "\n",
    "# Check if model converged\n",
    "print(f\"\\nNumber of iterations: {model_scaled.n_iter_[0]}\")"
   ]
  },
  {
   "cell_type": "markdown",
   "id": "140714fd",
   "metadata": {},
   "source": [
    "**Answer:** After scaling the numerical features, the ROC AUC score improved to 0.871."
   ]
  },
  {
   "cell_type": "markdown",
   "id": "7dabbb72",
   "metadata": {},
   "source": [
    "### Question 5\n",
    "Scale numerical features and train the model. What's the ROC AUC after scaling?"
   ]
  },
  {
   "cell_type": "code",
   "execution_count": 14,
   "id": "2bc77dab",
   "metadata": {},
   "outputs": [
    {
     "name": "stdout",
     "output_type": "stream",
     "text": [
      "ROC AUC with all features (numerical + categorical): 0.898\n"
     ]
    }
   ],
   "source": [
    "# Question 6: Include categorical variables\n",
    "\n",
    "import numpy as np\n",
    "from sklearn.preprocessing import OneHotEncoder\n",
    "from sklearn.compose import ColumnTransformer\n",
    "from sklearn.pipeline import Pipeline\n",
    "\n",
    "# Prepare features - both numerical and categorical\n",
    "categorical_features = ['lead_source', 'industry', 'employment_status', 'location']\n",
    "X_full = df[numerical_features + categorical_features].copy()\n",
    "\n",
    "# Handle missing values for numerical features\n",
    "for feature in numerical_features:\n",
    "    X_full[feature] = X_full[feature].fillna(X_full[feature].median())\n",
    "\n",
    "# Handle missing values for categorical features\n",
    "for feature in categorical_features:\n",
    "    X_full[feature] = X_full[feature].fillna('missing')\n",
    "\n",
    "# Split the data\n",
    "X_train_full, X_val_full, y_train, y_val = train_test_split(\n",
    "    X_full, y, test_size=0.4, random_state=1\n",
    ")\n",
    "\n",
    "# Create preprocessing pipelines for numerical and categorical features\n",
    "numeric_transformer = StandardScaler()\n",
    "categorical_transformer = OneHotEncoder(handle_unknown='ignore', sparse_output=False)\n",
    "\n",
    "preprocessor = ColumnTransformer(\n",
    "    transformers=[\n",
    "        ('num', numeric_transformer, numerical_features),\n",
    "        ('cat', categorical_transformer, categorical_features)\n",
    "    ])\n",
    "\n",
    "# Create pipeline\n",
    "model_pipeline = Pipeline([\n",
    "    ('preprocessor', preprocessor),\n",
    "    ('classifier', LogisticRegression(C=0.01, random_state=1, max_iter=1000))\n",
    "])\n",
    "\n",
    "# Fit the pipeline\n",
    "model_pipeline.fit(X_train_full, y_train)\n",
    "\n",
    "# Make predictions\n",
    "y_pred_full = model_pipeline.predict_proba(X_val_full)[:, 1]\n",
    "\n",
    "# Calculate ROC AUC\n",
    "auc_full = roc_auc_score(y_val, y_pred_full)\n",
    "print(f\"ROC AUC with all features (numerical + categorical): {auc_full:.3f}\")"
   ]
  },
  {
   "cell_type": "markdown",
   "id": "1a9b41be",
   "metadata": {},
   "source": [
    "**Answer:** After including both categorical and numerical features, the ROC AUC score improved further to 0.898."
   ]
  },
  {
   "cell_type": "markdown",
   "id": "6f9dba3e",
   "metadata": {},
   "source": [
    "### Question 6\n",
    "Train the model with categorical and numerical features. What's the ROC AUC?"
   ]
  },
  {
   "cell_type": "code",
   "execution_count": 16,
   "id": "bdac1acb",
   "metadata": {},
   "outputs": [
    {
     "name": "stdout",
     "output_type": "stream",
     "text": [
      "Top 10 most important features (including categorical):\n",
      "number_of_courses_viewed: 0.7283\n",
      "interaction_count: 0.6194\n",
      "lead_score: 0.3056\n",
      "lead_source_referral: 0.2125\n",
      "employment_status_unemployed: -0.2114\n",
      "lead_source_paid_ads: -0.1787\n",
      "industry_education: 0.1196\n",
      "annual_income: 0.0988\n",
      "employment_status_student: 0.0773\n",
      "employment_status_employed: 0.0766\n"
     ]
    }
   ],
   "source": [
    "# Additional Analysis: Feature Importance for Categorical Variables\n",
    "\n",
    "# Get feature names after one-hot encoding\n",
    "categorical_encoder = model_pipeline.named_steps['preprocessor'].named_transformers_['cat']\n",
    "feature_names = (\n",
    "    numerical_features + \n",
    "    [f\"{feature}_{val}\" for feature, vals in \n",
    "     zip(categorical_features, categorical_encoder.categories_) \n",
    "     for val in vals]\n",
    ")\n",
    "\n",
    "# Get model coefficients\n",
    "coefficients = model_pipeline.named_steps['classifier'].coef_[0]\n",
    "\n",
    "# Create a dictionary of feature importances\n",
    "feature_importance = dict(zip(feature_names, coefficients))\n",
    "\n",
    "# Sort features by absolute importance\n",
    "sorted_features = sorted(\n",
    "    feature_importance.items(), \n",
    "    key=lambda x: abs(x[1]), \n",
    "    reverse=True\n",
    ")\n",
    "\n",
    "print(\"Top 10 most important features (including categorical):\")\n",
    "for feature, importance in sorted_features[:10]:\n",
    "    print(f\"{feature}: {importance:.4f}\")"
   ]
  },
  {
   "cell_type": "code",
   "execution_count": 17,
   "id": "d525b104",
   "metadata": {},
   "outputs": [
    {
     "data": {
      "image/png": "[encoded data removed]",
      "text/plain": [
       "<Figure size 1200x600 with 1 Axes>"
      ]
     },
     "metadata": {},
     "output_type": "display_data"
    }
   ],
   "source": [
    "# Visualize feature importances\n",
    "import matplotlib.pyplot as plt\n",
    "\n",
    "# Get top 15 features by absolute importance\n",
    "top_15 = sorted_features[:15]\n",
    "features, importances = zip(*top_15)\n",
    "\n",
    "plt.figure(figsize=(12, 6))\n",
    "bars = plt.barh(range(len(features)), [abs(imp) for imp in importances])\n",
    "plt.yticks(range(len(features)), features)\n",
    "plt.xlabel('Absolute Feature Importance')\n",
    "plt.title('Top 15 Most Important Features')\n",
    "\n",
    "# Color bars based on positive/negative importance\n",
    "for i, imp in enumerate(importances):\n",
    "    bars[i].set_color('red' if imp < 0 else 'blue')\n",
    "\n",
    "# Add a legend\n",
    "plt.bar(0, 0, color='blue', label='Positive Impact')\n",
    "plt.bar(0, 0, color='red', label='Negative Impact')\n",
    "plt.legend()\n",
    "\n",
    "plt.tight_layout()\n",
    "plt.show()"
   ]
  },
  {
   "cell_type": "code",
   "execution_count": 6,
   "id": "8e0da4c4",
   "metadata": {},
   "outputs": [
    {
     "name": "stdout",
     "output_type": "stream",
     "text": [
      "Column names in the dataset:\n",
      "['lead_source', 'industry', 'number_of_courses_viewed', 'annual_income', 'employment_status', 'location', 'interaction_count', 'lead_score', 'converted']\n"
     ]
    }
   ],
   "source": [
    "# Display column names\n",
    "print(\"Column names in the dataset:\")\n",
    "print(df.columns.tolist())"
   ]
  },
  {
   "cell_type": "code",
   "execution_count": 3,
   "id": "87689097",
   "metadata": {},
   "outputs": [
    {
     "name": "stdout",
     "output_type": "stream",
     "text": [
      "Collecting scikit-learn\n",
      "  Downloading scikit_learn-1.7.2-cp312-cp312-win_amd64.whl.metadata (11 kB)\n",
      "Collecting seaborn\n",
      "  Using cached seaborn-0.13.2-py3-none-any.whl.metadata (5.4 kB)\n",
      "Requirement already satisfied: pandas in c:\\projectsdemo\\data-science-projects\\lib\\site-packages (2.2.3)\n",
      "Requirement already satisfied: numpy in c:\\projectsdemo\\data-science-projects\\lib\\site-packages (2.0.2)\n",
      "Requirement already satisfied: matplotlib in c:\\projectsdemo\\data-science-projects\\lib\\site-packages (3.10.0)\n",
      "Requirement already satisfied: scipy>=1.8.0 in c:\\projectsdemo\\data-science-projects\\lib\\site-packages (from scikit-learn) (1.16.2)\n",
      "Collecting joblib>=1.2.0 (from scikit-learn)\n",
      "  Using cached joblib-1.5.2-py3-none-any.whl.metadata (5.6 kB)\n",
      "Collecting threadpoolctl>=3.1.0 (from scikit-learn)\n",
      "  Using cached threadpoolctl-3.6.0-py3-none-any.whl.metadata (13 kB)\n",
      "Requirement already satisfied: python-dateutil>=2.8.2 in c:\\projectsdemo\\data-science-projects\\lib\\site-packages (from pandas) (2.9.0.post0)\n",
      "Requirement already satisfied: pytz>=2020.1 in c:\\projectsdemo\\data-science-projects\\lib\\site-packages (from pandas) (2024.1)\n",
      "Requirement already satisfied: tzdata>=2022.7 in c:\\projectsdemo\\data-science-projects\\lib\\site-packages (from pandas) (2023.3)\n",
      "Requirement already satisfied: contourpy>=1.0.1 in c:\\projectsdemo\\data-science-projects\\lib\\site-packages (from matplotlib) (1.3.1)\n",
      "Requirement already satisfied: cycler>=0.10 in c:\\projectsdemo\\data-science-projects\\lib\\site-packages (from matplotlib) (0.11.0)\n",
      "Requirement already satisfied: fonttools>=4.22.0 in c:\\projectsdemo\\data-science-projects\\lib\\site-packages (from matplotlib) (4.55.3)\n",
      "Requirement already satisfied: kiwisolver>=1.3.1 in c:\\projectsdemo\\data-science-projects\\lib\\site-packages (from matplotlib) (1.4.8)\n",
      "Requirement already satisfied: packaging>=20.0 in c:\\projectsdemo\\data-science-projects\\lib\\site-packages (from matplotlib) (24.2)\n",
      "Requirement already satisfied: pillow>=8 in c:\\projectsdemo\\data-science-projects\\lib\\site-packages (from matplotlib) (11.1.0)\n",
      "Requirement already satisfied: pyparsing>=2.3.1 in c:\\projectsdemo\\data-science-projects\\lib\\site-packages (from matplotlib) (3.2.0)\n",
      "Requirement already satisfied: six>=1.5 in c:\\projectsdemo\\data-science-projects\\lib\\site-packages (from python-dateutil>=2.8.2->pandas) (1.16.0)\n",
      "Downloading scikit_learn-1.7.2-cp312-cp312-win_amd64.whl (8.7 MB)\n",
      "   ---------------------------------------- 0.0/8.7 MB ? eta -:--:--\n",
      "   ---------------------------------------- 0.0/8.7 MB ? eta -:--:--\n",
      "   ---------------------------------------- 0.0/8.7 MB ? eta -:--:--\n",
      "   - -------------------------------------- 0.3/8.7 MB ? eta -:--:--\n",
      "   - -------------------------------------- 0.3/8.7 MB ? eta -:--:--\n",
      "   - -------------------------------------- 0.3/8.7 MB ? eta -:--:--\n",
      "   -- ------------------------------------- 0.5/8.7 MB 466.4 kB/s eta 0:00:18\n",
      "   -- ------------------------------------- 0.5/8.7 MB 466.4 kB/s eta 0:00:18\n",
      "   -- ------------------------------------- 0.5/8.7 MB 466.4 kB/s eta 0:00:18\n",
      "   --- ------------------------------------ 0.8/8.7 MB 472.8 kB/s eta 0:00:17\n",
      "   --- ------------------------------------ 0.8/8.7 MB 472.8 kB/s eta 0:00:17\n",
      "   ---- ----------------------------------- 1.0/8.7 MB 484.0 kB/s eta 0:00:16\n",
      "   ---- ----------------------------------- 1.0/8.7 MB 484.0 kB/s eta 0:00:16\n",
      "   ---- ----------------------------------- 1.0/8.7 MB 484.0 kB/s eta 0:00:16\n",
      "   ------ --------------------------------- 1.3/8.7 MB 476.0 kB/s eta 0:00:16\n",
      "   ------ --------------------------------- 1.3/8.7 MB 476.0 kB/s eta 0:00:16\n",
      "   ------- -------------------------------- 1.6/8.7 MB 479.4 kB/s eta 0:00:15\n",
      "   ------- -------------------------------- 1.6/8.7 MB 479.4 kB/s eta 0:00:15\n",
      "   ------- -------------------------------- 1.6/8.7 MB 479.4 kB/s eta 0:00:15\n",
      "   -------- ------------------------------- 1.8/8.7 MB 477.1 kB/s eta 0:00:15\n",
      "   -------- ------------------------------- 1.8/8.7 MB 477.1 kB/s eta 0:00:15\n",
      "   --------- ------------------------------ 2.1/8.7 MB 481.4 kB/s eta 0:00:14\n",
      "   --------- ------------------------------ 2.1/8.7 MB 481.4 kB/s eta 0:00:14\n",
      "   --------- ------------------------------ 2.1/8.7 MB 481.4 kB/s eta 0:00:14\n",
      "   ---------- ----------------------------- 2.4/8.7 MB 481.1 kB/s eta 0:00:14\n",
      "   ---------- ----------------------------- 2.4/8.7 MB 481.1 kB/s eta 0:00:14\n",
      "   ------------ --------------------------- 2.6/8.7 MB 484.0 kB/s eta 0:00:13\n",
      "   ------------ --------------------------- 2.6/8.7 MB 484.0 kB/s eta 0:00:13\n",
      "   ------------ --------------------------- 2.6/8.7 MB 484.0 kB/s eta 0:00:13\n",
      "   ------------- -------------------------- 2.9/8.7 MB 484.9 kB/s eta 0:00:13\n",
      "   ------------- -------------------------- 2.9/8.7 MB 484.9 kB/s eta 0:00:13\n",
      "   ------------- -------------------------- 2.9/8.7 MB 484.9 kB/s eta 0:00:13\n",
      "   -------------- ------------------------- 3.1/8.7 MB 485.7 kB/s eta 0:00:12\n",
      "   -------------- ------------------------- 3.1/8.7 MB 485.7 kB/s eta 0:00:12\n",
      "   --------------- ------------------------ 3.4/8.7 MB 486.3 kB/s eta 0:00:11\n",
      "   --------------- ------------------------ 3.4/8.7 MB 486.3 kB/s eta 0:00:11\n",
      "   --------------- ------------------------ 3.4/8.7 MB 486.3 kB/s eta 0:00:11\n",
      "   ---------------- ----------------------- 3.7/8.7 MB 485.8 kB/s eta 0:00:11\n",
      "   ---------------- ----------------------- 3.7/8.7 MB 485.8 kB/s eta 0:00:11\n",
      "   ------------------ --------------------- 3.9/8.7 MB 485.3 kB/s eta 0:00:10\n",
      "   ------------------ --------------------- 3.9/8.7 MB 485.3 kB/s eta 0:00:10\n",
      "   ------------------ --------------------- 3.9/8.7 MB 485.3 kB/s eta 0:00:10\n",
      "   ------------------- -------------------- 4.2/8.7 MB 485.8 kB/s eta 0:00:10\n",
      "   ------------------- -------------------- 4.2/8.7 MB 485.8 kB/s eta 0:00:10\n",
      "   -------------------- ------------------- 4.5/8.7 MB 484.6 kB/s eta 0:00:09\n",
      "   -------------------- ------------------- 4.5/8.7 MB 484.6 kB/s eta 0:00:09\n",
      "   -------------------- ------------------- 4.5/8.7 MB 484.6 kB/s eta 0:00:09\n",
      "   --------------------- ------------------ 4.7/8.7 MB 483.4 kB/s eta 0:00:09\n",
      "   --------------------- ------------------ 4.7/8.7 MB 483.4 kB/s eta 0:00:09\n",
      "   --------------------- ------------------ 4.7/8.7 MB 483.4 kB/s eta 0:00:09\n",
      "   ---------------------- ----------------- 5.0/8.7 MB 480.1 kB/s eta 0:00:08\n",
      "   ---------------------- ----------------- 5.0/8.7 MB 480.1 kB/s eta 0:00:08\n",
      "   ---------------------- ----------------- 5.0/8.7 MB 480.1 kB/s eta 0:00:08\n",
      "   ---------------------- ----------------- 5.0/8.7 MB 480.1 kB/s eta 0:00:08\n",
      "   ------------------------ --------------- 5.2/8.7 MB 462.7 kB/s eta 0:00:08\n",
      "   ------------------------ --------------- 5.2/8.7 MB 462.7 kB/s eta 0:00:08\n",
      "   ------------------------ --------------- 5.2/8.7 MB 462.7 kB/s eta 0:00:08\n",
      "   ------------------------- -------------- 5.5/8.7 MB 462.2 kB/s eta 0:00:07\n",
      "   ------------------------- -------------- 5.5/8.7 MB 462.2 kB/s eta 0:00:07\n",
      "   ------------------------- -------------- 5.5/8.7 MB 462.2 kB/s eta 0:00:07\n",
      "   -------------------------- ------------- 5.8/8.7 MB 463.0 kB/s eta 0:00:07\n",
      "   -------------------------- ------------- 5.8/8.7 MB 463.0 kB/s eta 0:00:07\n",
      "   --------------------------- ------------ 6.0/8.7 MB 464.3 kB/s eta 0:00:06\n",
      "   --------------------------- ------------ 6.0/8.7 MB 464.3 kB/s eta 0:00:06\n",
      "   --------------------------- ------------ 6.0/8.7 MB 464.3 kB/s eta 0:00:06\n",
      "   ---------------------------- ----------- 6.3/8.7 MB 467.2 kB/s eta 0:00:06\n",
      "   ---------------------------- ----------- 6.3/8.7 MB 467.2 kB/s eta 0:00:06\n",
      "   ------------------------------ --------- 6.6/8.7 MB 467.1 kB/s eta 0:00:05\n",
      "   ------------------------------ --------- 6.6/8.7 MB 467.1 kB/s eta 0:00:05\n",
      "   ------------------------------ --------- 6.6/8.7 MB 467.1 kB/s eta 0:00:05\n",
      "   ------------------------------ --------- 6.6/8.7 MB 467.1 kB/s eta 0:00:05\n",
      "   ------------------------------- -------- 6.8/8.7 MB 456.9 kB/s eta 0:00:05\n",
      "   ------------------------------- -------- 6.8/8.7 MB 456.9 kB/s eta 0:00:05\n",
      "   ------------------------------- -------- 6.8/8.7 MB 456.9 kB/s eta 0:00:05\n",
      "   -------------------------------- ------- 7.1/8.7 MB 457.7 kB/s eta 0:00:04\n",
      "   -------------------------------- ------- 7.1/8.7 MB 457.7 kB/s eta 0:00:04\n",
      "   --------------------------------- ------ 7.3/8.7 MB 459.9 kB/s eta 0:00:04\n",
      "   --------------------------------- ------ 7.3/8.7 MB 459.9 kB/s eta 0:00:04\n",
      "   --------------------------------- ------ 7.3/8.7 MB 459.9 kB/s eta 0:00:04\n",
      "   ---------------------------------- ----- 7.6/8.7 MB 460.6 kB/s eta 0:00:03\n",
      "   ---------------------------------- ----- 7.6/8.7 MB 460.6 kB/s eta 0:00:03\n",
      "   ---------------------------------- ----- 7.6/8.7 MB 460.6 kB/s eta 0:00:03\n",
      "   ------------------------------------ --- 7.9/8.7 MB 461.2 kB/s eta 0:00:02\n",
      "   ------------------------------------ --- 7.9/8.7 MB 461.2 kB/s eta 0:00:02\n",
      "   ------------------------------------- -- 8.1/8.7 MB 462.2 kB/s eta 0:00:02\n",
      "   ------------------------------------- -- 8.1/8.7 MB 462.2 kB/s eta 0:00:02\n",
      "   ------------------------------------- -- 8.1/8.7 MB 462.2 kB/s eta 0:00:02\n",
      "   -------------------------------------- - 8.4/8.7 MB 462.3 kB/s eta 0:00:01\n",
      "   -------------------------------------- - 8.4/8.7 MB 462.3 kB/s eta 0:00:01\n",
      "   -------------------------------------- - 8.4/8.7 MB 462.3 kB/s eta 0:00:01\n",
      "   ---------------------------------------- 8.7/8.7 MB 461.7 kB/s  0:00:18\n",
      "Using cached seaborn-0.13.2-py3-none-any.whl (294 kB)\n",
      "Using cached joblib-1.5.2-py3-none-any.whl (308 kB)\n",
      "Using cached threadpoolctl-3.6.0-py3-none-any.whl (18 kB)\n",
      "Installing collected packages: threadpoolctl, joblib, scikit-learn, seaborn\n",
      "\n",
      "   ---------- ----------------------------- 1/4 [joblib]\n",
      "   ---------- ----------------------------- 1/4 [joblib]\n",
      "   ---------- ----------------------------- 1/4 [joblib]\n",
      "   ---------- ----------------------------- 1/4 [joblib]\n",
      "   ---------- ----------------------------- 1/4 [joblib]\n",
      "   ---------- ----------------------------- 1/4 [joblib]\n",
      "   ---------- ----------------------------- 1/4 [joblib]\n",
      "   ---------- ----------------------------- 1/4 [joblib]\n",
      "   ---------- ----------------------------- 1/4 [joblib]\n",
      "   ---------- ----------------------------- 1/4 [joblib]\n",
      "   ---------- ----------------------------- 1/4 [joblib]\n",
      "   ---------- ----------------------------- 1/4 [joblib]\n",
      "   ---------- ----------------------------- 1/4 [joblib]\n",
      "   -------------------- ------------------- 2/4 [scikit-learn]\n",
      "   -------------------- ------------------- 2/4 [scikit-learn]\n",
      "   -------------------- ------------------- 2/4 [scikit-learn]\n",
      "   -------------------- ------------------- 2/4 [scikit-learn]\n",
      "   -------------------- ------------------- 2/4 [scikit-learn]\n",
      "   -------------------- ------------------- 2/4 [scikit-learn]\n",
      "   -------------------- ------------------- 2/4 [scikit-learn]\n",
      "   -------------------- ------------------- 2/4 [scikit-learn]\n",
      "   -------------------- ------------------- 2/4 [scikit-learn]\n",
      "   -------------------- ------------------- 2/4 [scikit-learn]\n",
      "   -------------------- ------------------- 2/4 [scikit-learn]\n",
      "   -------------------- ------------------- 2/4 [scikit-learn]\n",
      "   -------------------- ------------------- 2/4 [scikit-learn]\n",
      "   -------------------- ------------------- 2/4 [scikit-learn]\n",
      "   -------------------- ------------------- 2/4 [scikit-learn]\n",
      "   -------------------- ------------------- 2/4 [scikit-learn]\n",
      "   -------------------- ------------------- 2/4 [scikit-learn]\n",
      "   -------------------- ------------------- 2/4 [scikit-learn]\n",
      "   -------------------- ------------------- 2/4 [scikit-learn]\n",
      "   -------------------- ------------------- 2/4 [scikit-learn]\n",
      "   -------------------- ------------------- 2/4 [scikit-learn]\n",
      "   -------------------- ------------------- 2/4 [scikit-learn]\n",
      "   -------------------- ------------------- 2/4 [scikit-learn]\n",
      "   -------------------- ------------------- 2/4 [scikit-learn]\n",
      "   -------------------- ------------------- 2/4 [scikit-learn]\n",
      "   -------------------- ------------------- 2/4 [scikit-learn]\n",
      "   -------------------- ------------------- 2/4 [scikit-learn]\n",
      "   -------------------- ------------------- 2/4 [scikit-learn]\n",
      "   -------------------- ------------------- 2/4 [scikit-learn]\n",
      "   -------------------- ------------------- 2/4 [scikit-learn]\n",
      "   -------------------- ------------------- 2/4 [scikit-learn]\n",
      "   -------------------- ------------------- 2/4 [scikit-learn]\n",
      "   -------------------- ------------------- 2/4 [scikit-learn]\n",
      "   -------------------- ------------------- 2/4 [scikit-learn]\n",
      "   -------------------- ------------------- 2/4 [scikit-learn]\n",
      "   -------------------- ------------------- 2/4 [scikit-learn]\n",
      "   -------------------- ------------------- 2/4 [scikit-learn]\n",
      "   -------------------- ------------------- 2/4 [scikit-learn]\n",
      "   -------------------- ------------------- 2/4 [scikit-learn]\n",
      "   -------------------- ------------------- 2/4 [scikit-learn]\n",
      "   -------------------- ------------------- 2/4 [scikit-learn]\n",
      "   -------------------- ------------------- 2/4 [scikit-learn]\n",
      "   -------------------- ------------------- 2/4 [scikit-learn]\n",
      "   -------------------- ------------------- 2/4 [scikit-learn]\n",
      "   -------------------- ------------------- 2/4 [scikit-learn]\n",
      "   -------------------- ------------------- 2/4 [scikit-learn]\n",
      "   -------------------- ------------------- 2/4 [scikit-learn]\n",
      "   -------------------- ------------------- 2/4 [scikit-learn]\n",
      "   -------------------- ------------------- 2/4 [scikit-learn]\n",
      "   -------------------- ------------------- 2/4 [scikit-learn]\n",
      "   -------------------- ------------------- 2/4 [scikit-learn]\n",
      "   -------------------- ------------------- 2/4 [scikit-learn]\n",
      "   -------------------- ------------------- 2/4 [scikit-learn]\n",
      "   -------------------- ------------------- 2/4 [scikit-learn]\n",
      "   -------------------- ------------------- 2/4 [scikit-learn]\n",
      "   -------------------- ------------------- 2/4 [scikit-learn]\n",
      "   -------------------- ------------------- 2/4 [scikit-learn]\n",
      "   -------------------- ------------------- 2/4 [scikit-learn]\n",
      "   -------------------- ------------------- 2/4 [scikit-learn]\n",
      "   -------------------- ------------------- 2/4 [scikit-learn]\n",
      "   -------------------- ------------------- 2/4 [scikit-learn]\n",
      "   -------------------- ------------------- 2/4 [scikit-learn]\n",
      "   -------------------- ------------------- 2/4 [scikit-learn]\n",
      "   -------------------- ------------------- 2/4 [scikit-learn]\n",
      "   -------------------- ------------------- 2/4 [scikit-learn]\n",
      "   -------------------- ------------------- 2/4 [scikit-learn]\n",
      "   -------------------- ------------------- 2/4 [scikit-learn]\n",
      "   -------------------- ------------------- 2/4 [scikit-learn]\n",
      "   -------------------- ------------------- 2/4 [scikit-learn]\n",
      "   -------------------- ------------------- 2/4 [scikit-learn]\n",
      "   -------------------- ------------------- 2/4 [scikit-learn]\n",
      "   -------------------- ------------------- 2/4 [scikit-learn]\n",
      "   -------------------- ------------------- 2/4 [scikit-learn]\n",
      "   -------------------- ------------------- 2/4 [scikit-learn]\n",
      "   -------------------- ------------------- 2/4 [scikit-learn]\n",
      "   -------------------- ------------------- 2/4 [scikit-learn]\n",
      "   -------------------- ------------------- 2/4 [scikit-learn]\n",
      "   -------------------- ------------------- 2/4 [scikit-learn]\n",
      "   -------------------- ------------------- 2/4 [scikit-learn]\n",
      "   -------------------- ------------------- 2/4 [scikit-learn]\n",
      "   -------------------- ------------------- 2/4 [scikit-learn]\n",
      "   -------------------- ------------------- 2/4 [scikit-learn]\n",
      "   -------------------- ------------------- 2/4 [scikit-learn]\n",
      "   -------------------- ------------------- 2/4 [scikit-learn]\n",
      "   -------------------- ------------------- 2/4 [scikit-learn]\n",
      "   -------------------- ------------------- 2/4 [scikit-learn]\n",
      "   -------------------- ------------------- 2/4 [scikit-learn]\n",
      "   -------------------- ------------------- 2/4 [scikit-learn]\n",
      "   -------------------- ------------------- 2/4 [scikit-learn]\n",
      "   -------------------- ------------------- 2/4 [scikit-learn]\n",
      "   ------------------------------ --------- 3/4 [seaborn]\n",
      "   ------------------------------ --------- 3/4 [seaborn]\n",
      "   ------------------------------ --------- 3/4 [seaborn]\n",
      "   ------------------------------ --------- 3/4 [seaborn]\n",
      "   ------------------------------ --------- 3/4 [seaborn]\n",
      "   ------------------------------ --------- 3/4 [seaborn]\n",
      "   ------------------------------ --------- 3/4 [seaborn]\n",
      "   ------------------------------ --------- 3/4 [seaborn]\n",
      "   ---------------------------------------- 4/4 [seaborn]\n",
      "\n",
      "Successfully installed joblib-1.5.2 scikit-learn-1.7.2 seaborn-0.13.2 threadpoolctl-3.6.0\n",
      "Note: you may need to restart the kernel to use updated packages.\n"
     ]
    },
    {
     "name": "stderr",
     "output_type": "stream",
     "text": [
      "The value specified in an AutoRun registry key could not be parsed.\n"
     ]
    }
   ],
   "source": [
    "%pip install scikit-learn seaborn pandas numpy matplotlib"
   ]
  },
  {
   "cell_type": "markdown",
   "id": "b9c71ab3",
   "metadata": {},
   "source": [
    "### Question 5\n",
    "Train models by excluding one feature at a time and compare accuracies to find the least important feature among:\n",
    "- industry\n",
    "- employment_status\n",
    "- lead_score"
   ]
  },
  {
   "cell_type": "code",
   "execution_count": 31,
   "id": "856186d2",
   "metadata": {},
   "outputs": [
    {
     "name": "stdout",
     "output_type": "stream",
     "text": [
      "Baseline accuracy (with all features): 0.6997\n",
      "\n",
      "Results for removing 'industry':\n",
      "Accuracy without feature: 0.6997\n",
      "Difference from baseline: 0.0000\n",
      "\n",
      "Results for removing 'employment_status':\n",
      "Accuracy without feature: 0.6962\n",
      "Difference from baseline: 0.0034\n",
      "\n",
      "Results for removing 'lead_score':\n",
      "Accuracy without feature: 0.7065\n",
      "Difference from baseline: -0.0068\n",
      "\n",
      "Feature with smallest impact: industry\n",
      "Impact on accuracy: 0.0000\n"
     ]
    }
   ],
   "source": [
    "# Function to train model and get accuracy\n",
    "def train_and_evaluate(X_train, X_val, y_train, y_val, features_to_use):\n",
    "    # Create preprocessing pipeline\n",
    "    categorical_features = [f for f in ['lead_source', 'industry', 'employment_status', 'location'] \n",
    "                          if f in features_to_use]\n",
    "    numerical_features = [f for f in ['number_of_courses_viewed', 'annual_income', 'interaction_count', 'lead_score'] \n",
    "                         if f in features_to_use]\n",
    "    \n",
    "    preprocessor = ColumnTransformer(\n",
    "        transformers=[\n",
    "            ('num', 'passthrough', numerical_features),\n",
    "            ('cat', OneHotEncoder(drop='first', sparse_output=False), categorical_features)\n",
    "        ])\n",
    "\n",
    "    # Create pipeline with preprocessor and logistic regression\n",
    "    model_pipeline = Pipeline([\n",
    "        ('preprocessor', preprocessor),\n",
    "        ('classifier', LogisticRegression(\n",
    "            solver='liblinear',\n",
    "            C=1.0,\n",
    "            max_iter=1000,\n",
    "            random_state=42\n",
    "        ))\n",
    "    ])\n",
    "    \n",
    "    # Fit the pipeline on training data\n",
    "    model_pipeline.fit(X_train[features_to_use], y_train)\n",
    "    \n",
    "    # Make predictions and calculate accuracy\n",
    "    y_pred = model_pipeline.predict(X_val[features_to_use])\n",
    "    return accuracy_score(y_val, y_pred)\n",
    "\n",
    "# Get all features\n",
    "all_features = ['lead_source', 'industry', 'employment_status', 'location',\n",
    "                'number_of_courses_viewed', 'annual_income', 'interaction_count', 'lead_score']\n",
    "\n",
    "# Get baseline accuracy with all features\n",
    "baseline_accuracy = train_and_evaluate(X_train, X_val, y_train, y_val, all_features)\n",
    "print(f\"Baseline accuracy (with all features): {baseline_accuracy:.4f}\")\n",
    "\n",
    "# Features to test\n",
    "features_to_test = ['industry', 'employment_status', 'lead_score']\n",
    "\n",
    "# Test removing each feature\n",
    "results = {}\n",
    "for feature in features_to_test:\n",
    "    # Remove the feature\n",
    "    features_without_current = [f for f in all_features if f != feature]\n",
    "    \n",
    "    # Get accuracy without this feature\n",
    "    accuracy_without_feature = train_and_evaluate(X_train, X_val, y_train, y_val, features_without_current)\n",
    "    \n",
    "    # Calculate difference (baseline - without_feature)\n",
    "    difference = baseline_accuracy - accuracy_without_feature\n",
    "    \n",
    "    results[feature] = {\n",
    "        'accuracy_without': accuracy_without_feature,\n",
    "        'difference': difference\n",
    "    }\n",
    "    \n",
    "    print(f\"\\nResults for removing '{feature}':\")\n",
    "    print(f\"Accuracy without feature: {accuracy_without_feature:.4f}\")\n",
    "    print(f\"Difference from baseline: {difference:.4f}\")\n",
    "\n",
    "# Find feature with smallest difference\n",
    "min_diff_feature = min(results.items(), key=lambda x: abs(x[1]['difference']))[0]\n",
    "print(f\"\\nFeature with smallest impact: {min_diff_feature}\")\n",
    "print(f\"Impact on accuracy: {results[min_diff_feature]['difference']:.4f}\")"
   ]
  },
  {
   "cell_type": "markdown",
   "id": "9bd48808",
   "metadata": {},
   "source": [
    "**Answer:** The feature with the smallest impact on model accuracy is `industry`. When removed, it shows a difference of 0.0000 from the baseline accuracy, meaning its removal had no impact on the model's performance. This suggests that `industry` is the least useful feature among the three options."
   ]
  },
  {
   "cell_type": "code",
   "execution_count": null,
   "id": "2b9c8ba6",
   "metadata": {},
   "outputs": [],
   "source": []
  },
  {
   "cell_type": "markdown",
   "id": "f675bf3e",
   "metadata": {},
   "source": [
    "### Question 6\n",
    "Train regularized logistic regression models with different C values:\n",
    "- C values to try: [0.01, 0.1, 1, 10, 100]\n",
    "- Use all features (same as Q4)\n",
    "- Compare validation accuracy (rounded to 3 decimal digits)\n",
    "- If multiple C values give same accuracy, select the smallest one"
   ]
  },
  {
   "cell_type": "code",
   "execution_count": 32,
   "id": "efb73052",
   "metadata": {},
   "outputs": [
    {
     "name": "stdout",
     "output_type": "stream",
     "text": [
      "C=0.01: Validation accuracy = 0.700\n",
      "C=0.1: Validation accuracy = 0.700\n",
      "C=1: Validation accuracy = 0.700\n",
      "C=10: Validation accuracy = 0.700\n",
      "C=100: Validation accuracy = 0.700\n",
      "\n",
      "Best C value: 0.01\n",
      "Best validation accuracy: 0.700\n"
     ]
    }
   ],
   "source": [
    "# Define features (same as Q4)\n",
    "categorical_features = ['lead_source', 'industry', 'employment_status', 'location']\n",
    "numerical_features = ['number_of_courses_viewed', 'annual_income', 'interaction_count', 'lead_score']\n",
    "\n",
    "# Create preprocessing pipeline\n",
    "preprocessor = ColumnTransformer(\n",
    "    transformers=[\n",
    "        ('num', 'passthrough', numerical_features),\n",
    "        ('cat', OneHotEncoder(drop='first', sparse_output=False), categorical_features)\n",
    "    ])\n",
    "\n",
    "# Try different C values\n",
    "C_values = [0.01, 0.1, 1, 10, 100]\n",
    "results = {}\n",
    "\n",
    "for C in C_values:\n",
    "    # Create pipeline with current C value\n",
    "    model_pipeline = Pipeline([\n",
    "        ('preprocessor', preprocessor),\n",
    "        ('classifier', LogisticRegression(\n",
    "            solver='liblinear',\n",
    "            C=C,\n",
    "            max_iter=1000,\n",
    "            random_state=42\n",
    "        ))\n",
    "    ])\n",
    "    \n",
    "    # Fit the pipeline on training data\n",
    "    model_pipeline.fit(X_train, y_train)\n",
    "    \n",
    "    # Make predictions on validation set\n",
    "    y_pred = model_pipeline.predict(X_val)\n",
    "    \n",
    "    # Calculate and store accuracy\n",
    "    accuracy = accuracy_score(y_val, y_pred)\n",
    "    results[C] = round(accuracy, 3)\n",
    "    \n",
    "    print(f\"C={C}: Validation accuracy = {results[C]:.3f}\")\n",
    "\n",
    "# Find best C value\n",
    "max_accuracy = max(results.values())\n",
    "best_Cs = [C for C, acc in results.items() if acc == max_accuracy]\n",
    "best_C = min(best_Cs)  # If multiple C values have same accuracy, take smallest\n",
    "\n",
    "print(f\"\\nBest C value: {best_C}\")\n",
    "print(f\"Best validation accuracy: {results[best_C]:.3f}\")"
   ]
  },
  {
   "cell_type": "markdown",
   "id": "4e7aa6d1",
   "metadata": {},
   "source": [
    "**Answer:** All C values [0.01, 0.1, 1, 10, 100] achieved the same validation accuracy of 0.700. When multiple C values give the same performance, we should choose the smallest one for better regularization. Therefore, C=0.01 is the best choice."
   ]
  }
 ],
 "metadata": {
  "kernelspec": {
   "display_name": "data-science-projects",
   "language": "python",
   "name": "python3"
  },
  "language_info": {
   "codemirror_mode": {
    "name": "ipython",
    "version": 3
   },
   "file_extension": ".py",
   "mimetype": "text/x-python",
   "name": "python",
   "nbconvert_exporter": "python",
   "pygments_lexer": "ipython3",
   "version": "3.12.9"
  }
 },
 "nbformat": 4,
 "nbformat_minor": 5
}
