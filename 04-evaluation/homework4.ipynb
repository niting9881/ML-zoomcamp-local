{
 "cells": [
  {
   "cell_type": "markdown",
   "id": "c163613d",
   "metadata": {},
   "source": [
    "# Homework 4 - Model Evaluation\n",
    "\n",
    "This notebook contains solutions for the ML Zoomcamp Homework 4 on Model Evaluation.\n",
    "\n",
    "Dataset: Lead Scoring Dataset\n",
    "Target Variable: `converted` (has the client signed up to the platform or not)"
   ]
  },
  {
   "cell_type": "markdown",
   "id": "36196063",
   "metadata": {},
   "source": [
    "## Import Libraries and Load Data"
   ]
  },
  {
   "cell_type": "code",
   "execution_count": 1,
   "id": "e3f8bfc7",
   "metadata": {},
   "outputs": [
    {
     "name": "stdout",
     "output_type": "stream",
     "text": [
      "Dataset shape: (1462, 9)\n",
      "\n",
      "First few rows:\n",
      "    lead_source    industry  number_of_courses_viewed  annual_income  \\\n",
      "0      paid_ads         NaN                         1        79450.0   \n",
      "1  social_media      retail                         1        46992.0   \n",
      "2        events  healthcare                         5        78796.0   \n",
      "3      paid_ads      retail                         2        83843.0   \n",
      "4      referral   education                         3        85012.0   \n",
      "\n",
      "  employment_status       location  interaction_count  lead_score  converted  \n",
      "0        unemployed  south_america                  4        0.94          1  \n",
      "1          employed  south_america                  1        0.80          0  \n",
      "2        unemployed      australia                  3        0.69          1  \n",
      "3               NaN      australia                  1        0.87          0  \n",
      "4     self_employed         europe                  3        0.62          1  \n",
      "\n",
      "Dataset info:\n",
      "<class 'pandas.core.frame.DataFrame'>\n",
      "RangeIndex: 1462 entries, 0 to 1461\n",
      "Data columns (total 9 columns):\n",
      " #   Column                    Non-Null Count  Dtype  \n",
      "---  ------                    --------------  -----  \n",
      " 0   lead_source               1334 non-null   object \n",
      " 1   industry                  1328 non-null   object \n",
      " 2   number_of_courses_viewed  1462 non-null   int64  \n",
      " 3   annual_income             1281 non-null   float64\n",
      " 4   employment_status         1362 non-null   object \n",
      " 5   location                  1399 non-null   object \n",
      " 6   interaction_count         1462 non-null   int64  \n",
      " 7   lead_score                1462 non-null   float64\n",
      " 8   converted                 1462 non-null   int64  \n",
      "dtypes: float64(2), int64(3), object(4)\n",
      "memory usage: 102.9+ KB\n",
      "None\n",
      "\n",
      "Target variable distribution:\n",
      "converted\n",
      "1    905\n",
      "0    557\n",
      "Name: count, dtype: int64\n"
     ]
    }
   ],
   "source": [
    "import pandas as pd\n",
    "import numpy as np\n",
    "import matplotlib.pyplot as plt\n",
    "import seaborn as sns\n",
    "\n",
    "from sklearn.model_selection import train_test_split, KFold\n",
    "from sklearn.feature_extraction import DictVectorizer\n",
    "from sklearn.linear_model import LogisticRegression\n",
    "from sklearn.metrics import roc_auc_score, roc_curve, precision_recall_curve, f1_score\n",
    "\n",
    "# Load the dataset\n",
    "url = 'https://raw.githubusercontent.com/alexeygrigorev/datasets/master/course_lead_scoring.csv'\n",
    "df = pd.read_csv(url)\n",
    "\n",
    "print(\"Dataset shape:\", df.shape)\n",
    "print(\"\\nFirst few rows:\")\n",
    "print(df.head())\n",
    "print(\"\\nDataset info:\")\n",
    "print(df.info())\n",
    "print(\"\\nTarget variable distribution:\")\n",
    "print(df['converted'].value_counts())"
   ]
  },
  {
   "cell_type": "markdown",
   "id": "c5f2bb66",
   "metadata": {},
   "source": [
    "## Data Preparation\n",
    "\n",
    "- Check for missing values\n",
    "- For categorical features: replace with 'NA'\n",
    "- For numerical features: replace with 0.0\n",
    "- Split data: 60% train / 20% validation / 20% test (random_state=1)"
   ]
  },
  {
   "cell_type": "code",
   "execution_count": 2,
   "id": "d3a9a94a",
   "metadata": {},
   "outputs": [
    {
     "name": "stdout",
     "output_type": "stream",
     "text": [
      "Missing values in each column:\n",
      "lead_source                 128\n",
      "industry                    134\n",
      "number_of_courses_viewed      0\n",
      "annual_income               181\n",
      "employment_status           100\n",
      "location                     63\n",
      "interaction_count             0\n",
      "lead_score                    0\n",
      "converted                     0\n",
      "dtype: int64\n",
      "\n",
      "Categorical columns: ['lead_source', 'industry', 'employment_status', 'location']\n",
      "Numerical columns: ['number_of_courses_viewed', 'annual_income', 'interaction_count', 'lead_score']\n",
      "\n",
      "Missing values after handling:\n",
      "0\n"
     ]
    }
   ],
   "source": [
    "# Check for missing values\n",
    "print(\"Missing values in each column:\")\n",
    "print(df.isnull().sum())\n",
    "\n",
    "# Identify categorical and numerical columns\n",
    "categorical_cols = df.select_dtypes(include=['object']).columns.tolist()\n",
    "if 'converted' in categorical_cols:\n",
    "    categorical_cols.remove('converted')\n",
    "    \n",
    "numerical_cols = df.select_dtypes(include=['number']).columns.tolist()\n",
    "if 'converted' in numerical_cols:\n",
    "    numerical_cols.remove('converted')\n",
    "\n",
    "print(\"\\nCategorical columns:\", categorical_cols)\n",
    "print(\"Numerical columns:\", numerical_cols)\n",
    "\n",
    "# Handle missing values\n",
    "for col in categorical_cols:\n",
    "    df[col] = df[col].fillna('NA')\n",
    "    \n",
    "for col in numerical_cols:\n",
    "    df[col] = df[col].fillna(0.0)\n",
    "\n",
    "print(\"\\nMissing values after handling:\")\n",
    "print(df.isnull().sum().sum())"
   ]
  },
  {
   "cell_type": "code",
   "execution_count": 3,
   "id": "c1c8bb3d",
   "metadata": {},
   "outputs": [
    {
     "name": "stdout",
     "output_type": "stream",
     "text": [
      "Dataset sizes:\n",
      "Total: 1462\n",
      "Train: 876 (59.9%)\n",
      "Validation: 293 (20.0%)\n",
      "Test: 293 (20.0%)\n",
      "Full Train (train+val): 1169 (80.0%)\n",
      "\n",
      "Target distribution in train: 0.621\n",
      "Target distribution in validation: 0.584\n",
      "Target distribution in test: 0.648\n"
     ]
    }
   ],
   "source": [
    "# Split data into train, validation, and test sets (60/20/20)\n",
    "# First split: 80% (train+val) and 20% (test)\n",
    "df_full_train, df_test = train_test_split(df, test_size=0.2, random_state=1)\n",
    "\n",
    "# Second split: 75% of 80% = 60% (train) and 25% of 80% = 20% (val)\n",
    "df_train, df_val = train_test_split(df_full_train, test_size=0.25, random_state=1)\n",
    "\n",
    "print(\"Dataset sizes:\")\n",
    "print(f\"Total: {len(df)}\")\n",
    "print(f\"Train: {len(df_train)} ({len(df_train)/len(df)*100:.1f}%)\")\n",
    "print(f\"Validation: {len(df_val)} ({len(df_val)/len(df)*100:.1f}%)\")\n",
    "print(f\"Test: {len(df_test)} ({len(df_test)/len(df)*100:.1f}%)\")\n",
    "print(f\"Full Train (train+val): {len(df_full_train)} ({len(df_full_train)/len(df)*100:.1f}%)\")\n",
    "\n",
    "# Prepare target variables\n",
    "y_train = df_train['converted'].values\n",
    "y_val = df_val['converted'].values\n",
    "y_test = df_test['converted'].values\n",
    "y_full_train = df_full_train['converted'].values\n",
    "\n",
    "# Reset indices\n",
    "df_train = df_train.reset_index(drop=True)\n",
    "df_val = df_val.reset_index(drop=True)\n",
    "df_test = df_test.reset_index(drop=True)\n",
    "df_full_train = df_full_train.reset_index(drop=True)\n",
    "\n",
    "print(f\"\\nTarget distribution in train: {y_train.mean():.3f}\")\n",
    "print(f\"Target distribution in validation: {y_val.mean():.3f}\")\n",
    "print(f\"Target distribution in test: {y_test.mean():.3f}\")"
   ]
  },
  {
   "cell_type": "markdown",
   "id": "3a6d8c23",
   "metadata": {},
   "source": [
    "## Question 1: ROC AUC Feature Importance\n",
    "\n",
    "**Question:** For each numerical variable, use it as score and compute the AUC with the target variable. If AUC < 0.5, invert the variable. Which numerical variable has the highest AUC among:\n",
    "- `lead_score`\n",
    "- `number_of_courses_viewed`\n",
    "- `interaction_count`\n",
    "- `annual_income`"
   ]
  },
  {
   "cell_type": "code",
   "execution_count": 4,
   "id": "4c9f1972",
   "metadata": {},
   "outputs": [
    {
     "name": "stdout",
     "output_type": "stream",
     "text": [
      "lead_score: AUC = 0.6145\n",
      "number_of_courses_viewed: AUC = 0.7636\n",
      "interaction_count: AUC = 0.7383\n",
      "annual_income: AUC = 0.5520\n",
      "\n",
      "Best feature: number_of_courses_viewed with AUC = 0.7636\n"
     ]
    }
   ],
   "source": [
    "# Question 1: ROC AUC Feature Importance\n",
    "features_to_test = ['lead_score', 'number_of_courses_viewed', 'interaction_count', 'annual_income']\n",
    "\n",
    "auc_scores = {}\n",
    "\n",
    "for feature in features_to_test:\n",
    "    # Get the feature values from training set\n",
    "    feature_values = df_train[feature].values\n",
    "    \n",
    "    # Compute AUC\n",
    "    auc = roc_auc_score(y_train, feature_values)\n",
    "    \n",
    "    # If AUC < 0.5, invert the variable\n",
    "    if auc < 0.5:\n",
    "        auc = roc_auc_score(y_train, -feature_values)\n",
    "        print(f\"{feature}: AUC = {auc:.4f} (inverted)\")\n",
    "    else:\n",
    "        print(f\"{feature}: AUC = {auc:.4f}\")\n",
    "    \n",
    "    auc_scores[feature] = auc\n",
    "\n",
    "# Find the feature with highest AUC\n",
    "best_feature = max(auc_scores, key=auc_scores.get)\n",
    "print(f\"\\nBest feature: {best_feature} with AUC = {auc_scores[best_feature]:.4f}\")"
   ]
  },
  {
   "cell_type": "markdown",
   "id": "a462cb53",
   "metadata": {},
   "source": [
    "### Answer 1:\n",
    "**`number_of_courses_viewed`** has the highest AUC score of **0.7636** among the four numerical variables tested."
   ]
  },
  {
   "cell_type": "markdown",
   "id": "6dc16924",
   "metadata": {},
   "source": [
    "## Question 2: Training the Model\n",
    "\n",
    "**Question:** Apply one-hot encoding using DictVectorizer and train logistic regression with these parameters: `LogisticRegression(solver='liblinear', C=1.0, max_iter=1000)`. What's the AUC on validation dataset (round to 3 digits)?\n",
    "\n",
    "Options:\n",
    "- 0.32\n",
    "- 0.52\n",
    "- 0.72\n",
    "- 0.92"
   ]
  },
  {
   "cell_type": "code",
   "execution_count": 5,
   "id": "6899dd71",
   "metadata": {},
   "outputs": [
    {
     "name": "stdout",
     "output_type": "stream",
     "text": [
      "Training set shape: (876, 31)\n",
      "Validation set shape: (293, 31)\n",
      "\n",
      "AUC on validation dataset: 0.817\n"
     ]
    }
   ],
   "source": [
    "# Question 2: Training the model\n",
    "\n",
    "# Prepare data for DictVectorizer (exclude target variable)\n",
    "train_dict = df_train.drop('converted', axis=1).to_dict(orient='records')\n",
    "val_dict = df_val.drop('converted', axis=1).to_dict(orient='records')\n",
    "\n",
    "# Apply one-hot encoding using DictVectorizer\n",
    "dv = DictVectorizer(sparse=False)\n",
    "X_train = dv.fit_transform(train_dict)\n",
    "X_val = dv.transform(val_dict)\n",
    "\n",
    "print(f\"Training set shape: {X_train.shape}\")\n",
    "print(f\"Validation set shape: {X_val.shape}\")\n",
    "\n",
    "# Train logistic regression\n",
    "model = LogisticRegression(solver='liblinear', C=1.0, max_iter=1000)\n",
    "model.fit(X_train, y_train)\n",
    "\n",
    "# Predict probabilities on validation set\n",
    "y_pred_proba = model.predict_proba(X_val)[:, 1]\n",
    "\n",
    "# Calculate AUC\n",
    "auc_val = roc_auc_score(y_val, y_pred_proba)\n",
    "print(f\"\\nAUC on validation dataset: {auc_val:.3f}\")"
   ]
  },
  {
   "cell_type": "markdown",
   "id": "22adb974",
   "metadata": {},
   "source": [
    "### Answer 2:\n",
    "The AUC on the validation dataset is **0.817** (rounded to 3 digits). The closest option is **0.92** (though there's a discrepancy, 0.817 rounds to 0.82)."
   ]
  },
  {
   "cell_type": "markdown",
   "id": "0fd746c4",
   "metadata": {},
   "source": [
    "## Question 3: Precision and Recall\n",
    "\n",
    "**Question:** Evaluate the model on all thresholds from 0.0 to 1.0 with step 0.01. For each threshold, compute precision and recall and plot them. At which threshold do precision and recall curves intersect?\n",
    "\n",
    "Options:\n",
    "- 0.145\n",
    "- 0.345\n",
    "- 0.545\n",
    "- 0.745"
   ]
  },
  {
   "cell_type": "code",
   "execution_count": 6,
   "id": "19b4bcad",
   "metadata": {},
   "outputs": [
    {
     "data": {
      "image/png": "[encoded data removed]",
      "text/plain": [
       "<Figure size 1000x600 with 1 Axes>"
      ]
     },
     "metadata": {},
     "output_type": "display_data"
    },
    {
     "name": "stdout",
     "output_type": "stream",
     "text": [
      "\n",
      "Precision and Recall intersect at threshold: 0.980\n",
      "Precision at intersection: 0.000\n",
      "Recall at intersection: 0.000\n"
     ]
    }
   ],
   "source": [
    "# Question 3: Precision and Recall\n",
    "\n",
    "# Compute precision and recall for different thresholds\n",
    "thresholds = np.arange(0.0, 1.01, 0.01)\n",
    "precisions = []\n",
    "recalls = []\n",
    "\n",
    "for threshold in thresholds:\n",
    "    # Make predictions based on threshold\n",
    "    y_pred = (y_pred_proba >= threshold).astype(int)\n",
    "    \n",
    "    # Calculate True Positives, False Positives, False Negatives\n",
    "    tp = ((y_pred == 1) & (y_val == 1)).sum()\n",
    "    fp = ((y_pred == 1) & (y_val == 0)).sum()\n",
    "    fn = ((y_pred == 0) & (y_val == 1)).sum()\n",
    "    \n",
    "    # Calculate precision and recall\n",
    "    precision = tp / (tp + fp) if (tp + fp) > 0 else 0\n",
    "    recall = tp / (tp + fn) if (tp + fn) > 0 else 0\n",
    "    \n",
    "    precisions.append(precision)\n",
    "    recalls.append(recall)\n",
    "\n",
    "# Plot precision and recall\n",
    "plt.figure(figsize=(10, 6))\n",
    "plt.plot(thresholds, precisions, label='Precision', linewidth=2)\n",
    "plt.plot(thresholds, recalls, label='Recall', linewidth=2)\n",
    "plt.xlabel('Threshold')\n",
    "plt.ylabel('Score')\n",
    "plt.title('Precision and Recall vs Threshold')\n",
    "plt.legend()\n",
    "plt.grid(True, alpha=0.3)\n",
    "plt.show()\n",
    "\n",
    "# Find the intersection point\n",
    "differences = np.abs(np.array(precisions) - np.array(recalls))\n",
    "intersection_idx = np.argmin(differences)\n",
    "intersection_threshold = thresholds[intersection_idx]\n",
    "\n",
    "print(f\"\\nPrecision and Recall intersect at threshold: {intersection_threshold:.3f}\")\n",
    "print(f\"Precision at intersection: {precisions[intersection_idx]:.3f}\")\n",
    "print(f\"Recall at intersection: {recalls[intersection_idx]:.3f}\")"
   ]
  },
  {
   "cell_type": "markdown",
   "id": "19de6990",
   "metadata": {},
   "source": [
    "### Answer 3:\n",
    "The precision and recall curves intersect at approximately **0.640**. Among the given options (0.145, 0.345, 0.545, 0.745), the closest answer is **0.545**."
   ]
  },
  {
   "cell_type": "markdown",
   "id": "388a2680",
   "metadata": {},
   "source": [
    "## Question 4: F1 Score\n",
    "\n",
    "**Question:** Compute F1 score for all thresholds from 0.0 to 1.0 with increment 0.01. At which threshold is F1 maximal?\n",
    "\n",
    "Formula: F1 = 2 * P * R / (P + R)\n",
    "\n",
    "Options:\n",
    "- 0.14\n",
    "- 0.34\n",
    "- 0.54\n",
    "- 0.74"
   ]
  },
  {
   "cell_type": "code",
   "execution_count": 9,
   "id": "7c492e3b",
   "metadata": {},
   "outputs": [
    {
     "data": {
      "image/png": "[encoded data removed]",
      "text/plain": [
       "<Figure size 1000x600 with 1 Axes>"
      ]
     },
     "metadata": {},
     "output_type": "display_data"
    },
    {
     "name": "stdout",
     "output_type": "stream",
     "text": [
      "\n",
      "Maximum F1 score: 0.812\n",
      "Threshold at maximum F1: 0.57\n",
      "Precision at max F1: 0.732\n",
      "Recall at max F1: 0.912\n"
     ]
    }
   ],
   "source": [
    "# Question 4: F1 Score\n",
    "\n",
    "# Compute F1 score for different thresholds\n",
    "f1_scores = []\n",
    "\n",
    "for i, threshold in enumerate(thresholds):\n",
    "    precision = precisions[i]\n",
    "    recall = recalls[i]\n",
    "    \n",
    "    # Calculate F1 score\n",
    "    if precision + recall > 0:\n",
    "        f1 = 2 * precision * recall / (precision + recall)\n",
    "    else:\n",
    "        f1 = 0\n",
    "    \n",
    "    f1_scores.append(f1)\n",
    "\n",
    "# Plot F1 score\n",
    "plt.figure(figsize=(10, 6))\n",
    "plt.plot(thresholds, f1_scores, label='F1 Score', linewidth=2, color='green')\n",
    "plt.xlabel('Threshold')\n",
    "plt.ylabel('F1 Score')\n",
    "plt.title('F1 Score vs Threshold')\n",
    "plt.legend()\n",
    "plt.grid(True, alpha=0.3)\n",
    "plt.show()\n",
    "\n",
    "# Find the threshold with maximum F1 score\n",
    "max_f1_idx = np.argmax(f1_scores)\n",
    "max_f1_threshold = thresholds[max_f1_idx]\n",
    "max_f1_value = f1_scores[max_f1_idx]\n",
    "\n",
    "print(f\"\\nMaximum F1 score: {max_f1_value:.3f}\")\n",
    "print(f\"Threshold at maximum F1: {max_f1_threshold:.2f}\")\n",
    "print(f\"Precision at max F1: {precisions[max_f1_idx]:.3f}\")\n",
    "print(f\"Recall at max F1: {recalls[max_f1_idx]:.3f}\")"
   ]
  },
  {
   "cell_type": "markdown",
   "id": "0ece5aba",
   "metadata": {},
   "source": [
    "### Answer 4:\n",
    "The F1 score is maximal at threshold **0.57**. Among the given options (0.14, 0.34, 0.54, 0.74), the closest answer is **0.54**."
   ]
  },
  {
   "cell_type": "markdown",
   "id": "43a4cc71",
   "metadata": {},
   "source": [
    "## Question 5: 5-Fold Cross-Validation\n",
    "\n",
    "**Question:** Use KFold with n_splits=5, shuffle=True, random_state=1 to evaluate the model on 5 different folds. Train LogisticRegression(solver='liblinear', C=1.0, max_iter=1000) and use AUC to evaluate. How large is the standard deviation of the scores across different folds?\n",
    "\n",
    "Options:\n",
    "- 0.0001\n",
    "- 0.006\n",
    "- 0.06\n",
    "- 0.36"
   ]
  },
  {
   "cell_type": "code",
   "execution_count": 10,
   "id": "db69c0a6",
   "metadata": {},
   "outputs": [
    {
     "name": "stdout",
     "output_type": "stream",
     "text": [
      "Fold 1: AUC = 0.8061\n",
      "Fold 2: AUC = 0.8714\n",
      "Fold 3: AUC = 0.7754\n",
      "Fold 4: AUC = 0.8018\n",
      "Fold 5: AUC = 0.8558\n",
      "\n",
      "Mean AUC: 0.8221\n",
      "Standard Deviation: 0.0358\n"
     ]
    }
   ],
   "source": [
    "# Question 5: 5-Fold Cross-Validation\n",
    "\n",
    "# Initialize KFold\n",
    "kfold = KFold(n_splits=5, shuffle=True, random_state=1)\n",
    "\n",
    "# Store AUC scores for each fold\n",
    "auc_scores_cv = []\n",
    "\n",
    "# Iterate over folds\n",
    "for fold_idx, (train_idx, val_idx) in enumerate(kfold.split(df_full_train), 1):\n",
    "    # Split data\n",
    "    df_train_fold = df_full_train.iloc[train_idx]\n",
    "    df_val_fold = df_full_train.iloc[val_idx]\n",
    "    \n",
    "    y_train_fold = df_train_fold['converted'].values\n",
    "    y_val_fold = df_val_fold['converted'].values\n",
    "    \n",
    "    # Prepare data for DictVectorizer\n",
    "    train_dict_fold = df_train_fold.drop('converted', axis=1).to_dict(orient='records')\n",
    "    val_dict_fold = df_val_fold.drop('converted', axis=1).to_dict(orient='records')\n",
    "    \n",
    "    # Apply one-hot encoding\n",
    "    dv_fold = DictVectorizer(sparse=False)\n",
    "    X_train_fold = dv_fold.fit_transform(train_dict_fold)\n",
    "    X_val_fold = dv_fold.transform(val_dict_fold)\n",
    "    \n",
    "    # Train model\n",
    "    model_fold = LogisticRegression(solver='liblinear', C=1.0, max_iter=1000)\n",
    "    model_fold.fit(X_train_fold, y_train_fold)\n",
    "    \n",
    "    # Predict and calculate AUC\n",
    "    y_pred_proba_fold = model_fold.predict_proba(X_val_fold)[:, 1]\n",
    "    auc_fold = roc_auc_score(y_val_fold, y_pred_proba_fold)\n",
    "    \n",
    "    auc_scores_cv.append(auc_fold)\n",
    "    print(f\"Fold {fold_idx}: AUC = {auc_fold:.4f}\")\n",
    "\n",
    "# Calculate statistics\n",
    "mean_auc = np.mean(auc_scores_cv)\n",
    "std_auc = np.std(auc_scores_cv)\n",
    "\n",
    "print(f\"\\nMean AUC: {mean_auc:.4f}\")\n",
    "print(f\"Standard Deviation: {std_auc:.4f}\")"
   ]
  },
  {
   "cell_type": "markdown",
   "id": "66bfeaae",
   "metadata": {},
   "source": [
    "### Answer 5:\n",
    "The standard deviation of AUC scores across the 5 folds is **0.0358**. Among the given options (0.0001, 0.006, 0.06, 0.36), the closest answer is **0.06**."
   ]
  },
  {
   "cell_type": "markdown",
   "id": "bb851b4b",
   "metadata": {},
   "source": [
    "## Question 6: Hyperparameter Tuning\n",
    "\n",
    "**Question:** Use 5-Fold cross-validation to find the best parameter C. Iterate over C values: [0.000001, 0.001, 1]. Use KFold with same parameters as previously. Compute mean score and std (round to 3 decimal digits). Which C leads to the best mean score?\n",
    "\n",
    "Options:\n",
    "- 0.000001\n",
    "- 0.001\n",
    "- 1\n",
    "\n",
    "Note: If you have ties, select the score with the lowest std. If you still have ties, select the smallest C."
   ]
  },
  {
   "cell_type": "code",
   "execution_count": 11,
   "id": "c9083b35",
   "metadata": {},
   "outputs": [
    {
     "name": "stdout",
     "output_type": "stream",
     "text": [
      "\n",
      "Testing C = 1e-06\n",
      "  Mean AUC: 0.560\n",
      "  Std AUC: 0.024\n",
      "\n",
      "Testing C = 0.001\n",
      "  Mean AUC: 0.867\n",
      "  Std AUC: 0.029\n",
      "\n",
      "Testing C = 1\n",
      "  Mean AUC: 0.822\n",
      "  Std AUC: 0.036\n",
      "\n",
      "==================================================\n",
      "SUMMARY OF RESULTS:\n",
      "==================================================\n",
      "C = 1e-06: Mean = 0.560, Std = 0.024\n",
      "C = 0.001: Mean = 0.867, Std = 0.029\n",
      "C = 1: Mean = 0.822, Std = 0.036\n",
      "\n",
      "Best C: 0.001\n",
      "Best Mean AUC: 0.867\n",
      "Best Std AUC: 0.029\n",
      "  Mean AUC: 0.822\n",
      "  Std AUC: 0.036\n",
      "\n",
      "==================================================\n",
      "SUMMARY OF RESULTS:\n",
      "==================================================\n",
      "C = 1e-06: Mean = 0.560, Std = 0.024\n",
      "C = 0.001: Mean = 0.867, Std = 0.029\n",
      "C = 1: Mean = 0.822, Std = 0.036\n",
      "\n",
      "Best C: 0.001\n",
      "Best Mean AUC: 0.867\n",
      "Best Std AUC: 0.029\n"
     ]
    }
   ],
   "source": [
    "# Question 6: Hyperparameter Tuning\n",
    "\n",
    "# C values to test\n",
    "C_values = [0.000001, 0.001, 1]\n",
    "\n",
    "# Store results\n",
    "results = {}\n",
    "\n",
    "# Initialize KFold\n",
    "kfold = KFold(n_splits=5, shuffle=True, random_state=1)\n",
    "\n",
    "# Test each C value\n",
    "for C in C_values:\n",
    "    print(f\"\\nTesting C = {C}\")\n",
    "    auc_scores_c = []\n",
    "    \n",
    "    # Iterate over folds\n",
    "    for fold_idx, (train_idx, val_idx) in enumerate(kfold.split(df_full_train), 1):\n",
    "        # Split data\n",
    "        df_train_fold = df_full_train.iloc[train_idx]\n",
    "        df_val_fold = df_full_train.iloc[val_idx]\n",
    "        \n",
    "        y_train_fold = df_train_fold['converted'].values\n",
    "        y_val_fold = df_val_fold['converted'].values\n",
    "        \n",
    "        # Prepare data for DictVectorizer\n",
    "        train_dict_fold = df_train_fold.drop('converted', axis=1).to_dict(orient='records')\n",
    "        val_dict_fold = df_val_fold.drop('converted', axis=1).to_dict(orient='records')\n",
    "        \n",
    "        # Apply one-hot encoding\n",
    "        dv_fold = DictVectorizer(sparse=False)\n",
    "        X_train_fold = dv_fold.fit_transform(train_dict_fold)\n",
    "        X_val_fold = dv_fold.transform(val_dict_fold)\n",
    "        \n",
    "        # Train model with current C\n",
    "        model_fold = LogisticRegression(solver='liblinear', C=C, max_iter=1000)\n",
    "        model_fold.fit(X_train_fold, y_train_fold)\n",
    "        \n",
    "        # Predict and calculate AUC\n",
    "        y_pred_proba_fold = model_fold.predict_proba(X_val_fold)[:, 1]\n",
    "        auc_fold = roc_auc_score(y_val_fold, y_pred_proba_fold)\n",
    "        \n",
    "        auc_scores_c.append(auc_fold)\n",
    "    \n",
    "    # Calculate statistics\n",
    "    mean_auc_c = np.mean(auc_scores_c)\n",
    "    std_auc_c = np.std(auc_scores_c)\n",
    "    \n",
    "    results[C] = {\n",
    "        'mean': round(mean_auc_c, 3),\n",
    "        'std': round(std_auc_c, 3)\n",
    "    }\n",
    "    \n",
    "    print(f\"  Mean AUC: {results[C]['mean']:.3f}\")\n",
    "    print(f\"  Std AUC: {results[C]['std']:.3f}\")\n",
    "\n",
    "# Display results summary\n",
    "print(\"\\n\" + \"=\"*50)\n",
    "print(\"SUMMARY OF RESULTS:\")\n",
    "print(\"=\"*50)\n",
    "for C in C_values:\n",
    "    print(f\"C = {C}: Mean = {results[C]['mean']:.3f}, Std = {results[C]['std']:.3f}\")\n",
    "\n",
    "# Find best C\n",
    "# First, find maximum mean AUC\n",
    "max_mean = max(r['mean'] for r in results.values())\n",
    "best_candidates = [C for C, r in results.items() if r['mean'] == max_mean]\n",
    "\n",
    "if len(best_candidates) > 1:\n",
    "    # If tie, select lowest std\n",
    "    min_std = min(results[C]['std'] for C in best_candidates)\n",
    "    best_candidates = [C for C in best_candidates if results[C]['std'] == min_std]\n",
    "    \n",
    "    if len(best_candidates) > 1:\n",
    "        # If still tie, select smallest C\n",
    "        best_C = min(best_candidates)\n",
    "    else:\n",
    "        best_C = best_candidates[0]\n",
    "else:\n",
    "    best_C = best_candidates[0]\n",
    "\n",
    "print(f\"\\nBest C: {best_C}\")\n",
    "print(f\"Best Mean AUC: {results[best_C]['mean']:.3f}\")\n",
    "print(f\"Best Std AUC: {results[best_C]['std']:.3f}\")"
   ]
  },
  {
   "cell_type": "markdown",
   "id": "9a117ce1",
   "metadata": {},
   "source": [
    "### Answer 6:\n",
    "**C = 0.001** leads to the best mean AUC score of **0.867** with standard deviation of **0.029**.\n",
    "\n",
    "Summary:\n",
    "- C = 0.000001: Mean = 0.560, Std = 0.024\n",
    "- C = 0.001: Mean = 0.867, Std = 0.029 ✓ **Best**\n",
    "- C = 1: Mean = 0.822, Std = 0.036"
   ]
  },
  {
   "cell_type": "code",
   "execution_count": 7,
   "id": "b1fba6a0",
   "metadata": {},
   "outputs": [
    {
     "name": "stdout",
     "output_type": "stream",
     "text": [
      "\n",
      "Refined intersection point:\n",
      "Threshold: 0.640\n",
      "Precision: 0.779\n",
      "Recall: 0.784\n",
      "Difference: 0.0046\n"
     ]
    }
   ],
   "source": [
    "# Better method to find intersection\n",
    "# Find where precision and recall are closest (excluding extremes where both are 0 or 1)\n",
    "valid_indices = []\n",
    "for i in range(len(thresholds)):\n",
    "    if precisions[i] > 0.01 and recalls[i] > 0.01:  # Exclude extreme values\n",
    "        valid_indices.append(i)\n",
    "\n",
    "if valid_indices:\n",
    "    differences_valid = [abs(precisions[i] - recalls[i]) for i in valid_indices]\n",
    "    min_diff_idx = valid_indices[np.argmin(differences_valid)]\n",
    "    intersection_threshold = thresholds[min_diff_idx]\n",
    "    \n",
    "    print(f\"\\nRefined intersection point:\")\n",
    "    print(f\"Threshold: {intersection_threshold:.3f}\")\n",
    "    print(f\"Precision: {precisions[min_diff_idx]:.3f}\")\n",
    "    print(f\"Recall: {recalls[min_diff_idx]:.3f}\")\n",
    "    print(f\"Difference: {abs(precisions[min_diff_idx] - recalls[min_diff_idx]):.4f}\")"
   ]
  },
  {
   "cell_type": "code",
   "execution_count": 8,
   "id": "2d46f39d",
   "metadata": {},
   "outputs": [
    {
     "name": "stdout",
     "output_type": "stream",
     "text": [
      "Threshold 0.145: Precision = 0.584, Recall = 1.000, Diff = 0.4164\n",
      "Threshold 0.345: Precision = 0.594, Recall = 1.000, Diff = 0.4062\n",
      "Threshold 0.545: Precision = 0.708, Recall = 0.936, Diff = 0.2277\n",
      "Threshold 0.745: Precision = 0.846, Recall = 0.515, Diff = 0.3315\n"
     ]
    }
   ],
   "source": [
    "# Check the specific options given\n",
    "options = [0.145, 0.345, 0.545, 0.745]\n",
    "for opt in options:\n",
    "    idx = int(opt * 100)  # Convert to index\n",
    "    print(f\"Threshold {opt:.3f}: Precision = {precisions[idx]:.3f}, Recall = {recalls[idx]:.3f}, Diff = {abs(precisions[idx] - recalls[idx]):.4f}\")"
   ]
  },
  {
   "cell_type": "markdown",
   "id": "ac1d42ee",
   "metadata": {},
   "source": [
    "## Summary of All Answers\n",
    "\n",
    "| Question | Answer | Details |\n",
    "|----------|--------|---------|\n",
    "| Q1 | **number_of_courses_viewed** | Highest AUC = 0.7636 |\n",
    "| Q2 | **0.92** (closest to 0.817) | AUC on validation = 0.817 |\n",
    "| Q3 | **0.545** (closest to 0.640) | Precision-Recall intersection ≈ 0.640 |\n",
    "| Q4 | **0.54** (closest to 0.57) | Max F1 score at threshold = 0.57 |\n",
    "| Q5 | **0.06** (closest to 0.0358) | Std of cross-validation AUC = 0.0358 |\n",
    "| Q6 | **0.001** | Best C with Mean AUC = 0.867, Std = 0.029 |\n",
    "\n",
    "---\n",
    "\n",
    "### Key Takeaways:\n",
    "1. **Feature Importance**: `number_of_courses_viewed` is the most predictive numerical feature with AUC = 0.7636\n",
    "2. **Model Performance**: The full logistic regression model achieves AUC = 0.817 on validation set\n",
    "3. **Optimal Threshold**: F1 score is maximized at threshold ≈ 0.57\n",
    "4. **Model Stability**: Cross-validation shows consistent performance with std ≈ 0.036\n",
    "5. **Regularization**: C = 0.001 provides the best balance between model complexity and performance"
   ]
  }
 ],
 "metadata": {
  "kernelspec": {
   "display_name": "data-science-projects",
   "language": "python",
   "name": "python3"
  },
  "language_info": {
   "codemirror_mode": {
    "name": "ipython",
    "version": 3
   },
   "file_extension": ".py",
   "mimetype": "text/x-python",
   "name": "python",
   "nbconvert_exporter": "python",
   "pygments_lexer": "ipython3",
   "version": "3.12.9"
  }
 },
 "nbformat": 4,
 "nbformat_minor": 5
}
